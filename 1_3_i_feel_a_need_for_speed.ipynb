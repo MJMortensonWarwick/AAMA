{
  "nbformat": 4,
  "nbformat_minor": 0,
  "metadata": {
    "colab": {
      "provenance": [],
      "authorship_tag": "ABX9TyOJua7dhv0EdJQjOVhn+lHP",
      "include_colab_link": true
    },
    "kernelspec": {
      "name": "python3",
      "display_name": "Python 3"
    },
    "language_info": {
      "name": "python"
    }
  },
  "cells": [
    {
      "cell_type": "markdown",
      "metadata": {
        "id": "view-in-github",
        "colab_type": "text"
      },
      "source": [
        "<a href=\"https://colab.research.google.com/github/MJMortensonWarwick/AAMA/blob/main/1_3_i_feel_a_need_for_speed.ipynb\" target=\"_parent\"><img src=\"https://colab.research.google.com/assets/colab-badge.svg\" alt=\"Open In Colab\"/></a>"
      ]
    },
    {
      "cell_type": "markdown",
      "source": [
        "# Speed it Up!\n",
        "This tutorial will look at techniques for speeding up Python and algorithms.\n",
        "\n",
        "Let's start with some _list comprehension_:"
      ],
      "metadata": {
        "id": "6ECGbRMpkFDa"
      }
    },
    {
      "cell_type": "code",
      "source": [
        "# slow way\n",
        "square_numbers = []\n",
        "for number in range(1, 10):\n",
        "\t square_numbers.append(number ** 2)\n",
        "\n",
        "# faster way\n",
        "square_numbers = [number ** 2 for number in range(1, 10)]\n",
        "square_numbers"
      ],
      "metadata": {
        "colab": {
          "base_uri": "https://localhost:8080/"
        },
        "id": "ddoS-fYAYV2V",
        "outputId": "ac6609d1-8d59-425f-e86b-c43e72ae1875"
      },
      "execution_count": 5,
      "outputs": [
        {
          "output_type": "execute_result",
          "data": {
            "text/plain": [
              "[1, 4, 9, 16, 25, 36, 49, 64, 81]"
            ]
          },
          "metadata": {},
          "execution_count": 5
        }
      ]
    },
    {
      "cell_type": "markdown",
      "source": [
        "Both these techniques produce the same output, but the second one is much faster and briefer (one line less of code).\n",
        "\n",
        "Let's try another:"
      ],
      "metadata": {
        "id": "tKbw-X_Okk87"
      }
    },
    {
      "cell_type": "code",
      "source": [
        "# slow way\n",
        "sentence = \"This \" + \"is \" + \"a \" + \"slower \" + \"way \" + \"to \" + \"make \" + \"a \" + \"sentence.\"\n",
        "print(sentence)\n",
        "\n",
        "# faster way\n",
        "mytuple = (\"This\", \"is\", \"a\", \"faster\", \"way\", \"to\", \"make\", \"a\", \"sentence.\")\n",
        "sentence = \" \".join(mytuple)\n",
        "print(sentence)"
      ],
      "metadata": {
        "colab": {
          "base_uri": "https://localhost:8080/"
        },
        "id": "m-qQN62zYoWi",
        "outputId": "783e8ca7-3b8e-474d-b8aa-a6a295bec406"
      },
      "execution_count": 6,
      "outputs": [
        {
          "output_type": "stream",
          "name": "stdout",
          "text": [
            "This is a slower way to make a sentence.\n",
            "This is a faster way to make a sentence.\n"
          ]
        }
      ]
    },
    {
      "cell_type": "markdown",
      "source": [
        "By converting from concatenation (example #1 - the \"slow way\") we are always going to be slower than joining (example #2). The syntax here is that we specify how to join (a space - \" \") and then pass the join command and the tuple of text we want to join.\n",
        "\n",
        "How about unions?\n",
        "\n"
      ],
      "metadata": {
        "id": "uEAN6RYgk5TN"
      }
    },
    {
      "cell_type": "code",
      "source": [
        "a = [1,1,2,3]\n",
        "b = [2,3,4,5]\n",
        "\n",
        "# slow way\n",
        "union_nos = []\n",
        "for x in a:\n",
        "  for y in b:\n",
        "    if x == y:\n",
        "      if x not in union_nos:\n",
        "        union_nos.append(x)\n",
        "\n",
        "# faster way\n",
        "union_nos  = set(a) & set(b)\n",
        "union_nos"
      ],
      "metadata": {
        "colab": {
          "base_uri": "https://localhost:8080/"
        },
        "id": "mxQ6DluCZdFT",
        "outputId": "8630c70e-5d3c-4cb5-f2fd-8395982488c8"
      },
      "execution_count": 7,
      "outputs": [
        {
          "output_type": "execute_result",
          "data": {
            "text/plain": [
              "{2, 3}"
            ]
          },
          "metadata": {},
          "execution_count": 7
        }
      ]
    },
    {
      "cell_type": "markdown",
      "source": [
        "So here we are asking Python to find all the unique elements in list _a_ that are also in _b_ ... i.e. the intersection of the two lists. In the first (\"slow way\") we have a for loop inside a loop (always a bad sign) that check the values in _a_ and then checks if they are in _b_. If they are, and are not already added, we added them to the list.\n",
        "\n",
        "Version two uses _set_ to find the unique values in each and then uses ampersand (\"&\") to find those in the intersection. Again, far less code and far quicker.\n",
        "\n",
        "How about sorting?"
      ],
      "metadata": {
        "id": "pofiy4tdllcs"
      }
    },
    {
      "cell_type": "code",
      "source": [
        "# quick sorting\n",
        "import operator\n",
        "\n",
        "a = [ (1,'z'), (2, 'x'), (3, 'y') ]\n",
        "a.sort(key=operator. itemgetter(1))\n",
        "a"
      ],
      "metadata": {
        "colab": {
          "base_uri": "https://localhost:8080/"
        },
        "id": "R6BRzVDIZwjm",
        "outputId": "ae6fe4a4-51b0-4b9c-b1ed-201954a79f49"
      },
      "execution_count": 8,
      "outputs": [
        {
          "output_type": "execute_result",
          "data": {
            "text/plain": [
              "[(2, 'x'), (3, 'y'), (1, 'z')]"
            ]
          },
          "metadata": {},
          "execution_count": 8
        }
      ]
    },
    {
      "cell_type": "markdown",
      "source": [
        "Here we are using _itemgetter_ for quick sorting. We specify \"(1)\" to say we want to sort by the second item (remember, first item in Python is 0 and seond is 1). This is much faster than other forms of sorting."
      ],
      "metadata": {
        "id": "_KngoBzLm48S"
      }
    },
    {
      "cell_type": "markdown",
      "source": [
        "## Vectorisation and Numba\n",
        "To end the tutorial we will use compilation techniques to speed up our code. First we will use the built-in _numpy_ code to vectorise our Python and make it run faster."
      ],
      "metadata": {
        "id": "NQbCbqyXnLmw"
      }
    },
    {
      "cell_type": "code",
      "execution_count": 9,
      "metadata": {
        "colab": {
          "base_uri": "https://localhost:8080/"
        },
        "id": "YWr6oZQKXpBK",
        "outputId": "052f8bee-4eba-42a3-8317-e86b147e6e25"
      },
      "outputs": [
        {
          "output_type": "stream",
          "name": "stdout",
          "text": [
            "T1 = 24984\n",
            "T2 = 24984\n"
          ]
        }
      ],
      "source": [
        "import numpy as np\n",
        "from timeit import timeit # guess what ... this times things.\n",
        "\n",
        "# a simple function that creates a list of 100,000 Boolean variables - True or False\n",
        "np.random.seed(444)\n",
        "x = np.random.choice([False, True], size=100000)\n",
        "\n",
        "# next a simple function that will compare each value with the previous one, and check if it is the same\n",
        "# e.g. if we get \"True\" and then \"True\" this is a match (and is added to the count), but \"False\"/\"True\"\n",
        "# or \"True/False\" is not counted\n",
        "def count_transitions(x) -> int:\n",
        "\tcount = 0\n",
        "\tfor i, j in zip(x[:-1], x[1:]):\n",
        "\t\tif j and not i:\n",
        "\t\t\tcount += 1\n",
        "\treturn count # return the final count\n",
        "\n",
        "# run the function and get the result\n",
        "print(f\"T1 = {count_transitions(x)}\")\n",
        "\n",
        "# here we used the vectorised numpy function that does the same thing ...\n",
        "# count_nonzero. Does it produce the same result?\n",
        "print(f\"T2 = {np.count_nonzero(x[:-1] < x[1:])}\")"
      ]
    },
    {
      "cell_type": "markdown",
      "source": [
        "We get the same result! But which is faster?"
      ],
      "metadata": {
        "id": "b0w7UMfmogJ3"
      }
    },
    {
      "cell_type": "code",
      "source": [
        "# pass the function calls to timeit\n",
        "setup = 'from __main__ import count_transitions, x; import numpy as np; \tfrom timeit import timeit'\n",
        "\n",
        "num = 1000 # how many times we run the function to get accurate estimates of time\n",
        "\n",
        "t1 = timeit('count_transitions(x)', setup=setup, number=num)\n",
        "t2 = timeit('np.count_nonzero(x[:-1] < x[1:])', setup=setup, number=num)\n",
        "\n",
        "print('T1 time = ' + str(t1))\n",
        "print('T2 time = ' + str(t2))"
      ],
      "metadata": {
        "colab": {
          "base_uri": "https://localhost:8080/"
        },
        "id": "rT2NXOoIX8O5",
        "outputId": "eb667bcf-5d28-4824-b041-6f0b2bc7f176"
      },
      "execution_count": 10,
      "outputs": [
        {
          "output_type": "stream",
          "name": "stdout",
          "text": [
            "T1 time = 10.131675481999991\n",
            "T2 time = 0.020542118999998138\n"
          ]
        }
      ]
    },
    {
      "cell_type": "markdown",
      "source": [
        "We can see that the _numpy_ vectorised version is much, much faster. Let's try another - a _numba_ just-in-time compilation:"
      ],
      "metadata": {
        "id": "hYsnd4dZokq8"
      }
    },
    {
      "cell_type": "code",
      "source": [
        "from numba import jit\n",
        "\n",
        "# the @jit decorator indicates we want to compile the particular function to make it run faster\n",
        "@jit\n",
        "def numba_counter(x):\n",
        "\tnp.count_nonzero(x[:-1] < x[1:])\n",
        "\n",
        "np.random.seed(444)\n",
        "x = np.random.choice([False, True], size=1000000)\n",
        "\n",
        "setup = 'from __main__ import count_transitions, numba_counter, x; import numpy as np; from timeit import timeit; from numba import jit'\n",
        "\n",
        "num = 1000\n",
        "\n",
        "t1 = timeit('count_transitions(x)', setup=setup, number=num)\n",
        "t2 = timeit('np.count_nonzero(x[:-1] < x[1:])', setup=setup, number=num)\n",
        "t3 = timeit('numba_counter(x)', setup=setup, number=num)\n",
        "\n",
        "print('T1 time = ' + str(t1))\n",
        "print('T2 time = ' + str(t2))\n",
        "print('T3 time = ' + str(t3))"
      ],
      "metadata": {
        "colab": {
          "base_uri": "https://localhost:8080/"
        },
        "id": "HQtYwDaeZ5he",
        "outputId": "ee15538c-3c73-4ac4-c7a5-de664aa15e59"
      },
      "execution_count": 12,
      "outputs": [
        {
          "output_type": "stream",
          "name": "stderr",
          "text": [
            "<ipython-input-12-283f5f0ede2b>:5: NumbaDeprecationWarning: The 'nopython' keyword argument was not supplied to the 'numba.jit' decorator. The implicit default value for this argument is currently False, but it will be changed to True in Numba 0.59.0. See https://numba.readthedocs.io/en/stable/reference/deprecation.html#deprecation-of-object-mode-fall-back-behaviour-when-using-jit for details.\n",
            "  def numba_counter(x):\n"
          ]
        },
        {
          "output_type": "stream",
          "name": "stdout",
          "text": [
            "T1 time = 98.45009520199997\n",
            "T2 time = 0.19879276200003915\n",
            "T3 time = 0.6299483899999814\n"
          ]
        }
      ]
    },
    {
      "cell_type": "markdown",
      "source": [
        "_numpy_ vectorisation remains the fastest. However, _numba_ just-in-time is not far behind and much faster than the basic version. I.e. if we can use a _numpy_ built-in vectorisation this is best, but if we have a unique function we can always use _numba_. 😙"
      ],
      "metadata": {
        "id": "28iHrKGSowcV"
      }
    }
  ]
}