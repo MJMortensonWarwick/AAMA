{
  "cells": [
    {
      "cell_type": "markdown",
      "metadata": {
        "id": "view-in-github",
        "colab_type": "text"
      },
      "source": [
        "<a href=\"https://colab.research.google.com/github/MJMortensonWarwick/AAMA/blob/main/1_2_genetic_algorithms_with_pygad.ipynb\" target=\"_parent\"><img src=\"https://colab.research.google.com/assets/colab-badge.svg\" alt=\"Open In Colab\"/></a>"
      ]
    },
    {
      "cell_type": "markdown",
      "source": [
        "# Genetic Algorithms with PyGAD\n",
        "This tutorial, heavily inspired by the GARI repository, will use Genetic Algorithms (GA) to recreate a picture of our friend and hero Dr Vinh Doan.\n",
        "\n",
        "To begin we will install the library:"
      ],
      "metadata": {
        "id": "7quyKzkgb4BZ"
      }
    },
    {
      "cell_type": "code",
      "execution_count": 17,
      "metadata": {
        "colab": {
          "base_uri": "https://localhost:8080/"
        },
        "id": "ASsVghXWRw8o",
        "outputId": "dab2933e-ebef-4021-b01b-33efc9771d2b"
      },
      "outputs": [
        {
          "output_type": "stream",
          "name": "stdout",
          "text": [
            "Requirement already satisfied: pygad in /usr/local/lib/python3.10/dist-packages (3.3.1)\n",
            "Requirement already satisfied: cloudpickle in /usr/local/lib/python3.10/dist-packages (from pygad) (2.2.1)\n",
            "Requirement already satisfied: matplotlib in /usr/local/lib/python3.10/dist-packages (from pygad) (3.7.1)\n",
            "Requirement already satisfied: numpy in /usr/local/lib/python3.10/dist-packages (from pygad) (1.25.2)\n",
            "Requirement already satisfied: contourpy>=1.0.1 in /usr/local/lib/python3.10/dist-packages (from matplotlib->pygad) (1.2.0)\n",
            "Requirement already satisfied: cycler>=0.10 in /usr/local/lib/python3.10/dist-packages (from matplotlib->pygad) (0.12.1)\n",
            "Requirement already satisfied: fonttools>=4.22.0 in /usr/local/lib/python3.10/dist-packages (from matplotlib->pygad) (4.48.1)\n",
            "Requirement already satisfied: kiwisolver>=1.0.1 in /usr/local/lib/python3.10/dist-packages (from matplotlib->pygad) (1.4.5)\n",
            "Requirement already satisfied: packaging>=20.0 in /usr/local/lib/python3.10/dist-packages (from matplotlib->pygad) (23.2)\n",
            "Requirement already satisfied: pillow>=6.2.0 in /usr/local/lib/python3.10/dist-packages (from matplotlib->pygad) (9.4.0)\n",
            "Requirement already satisfied: pyparsing>=2.3.1 in /usr/local/lib/python3.10/dist-packages (from matplotlib->pygad) (3.1.1)\n",
            "Requirement already satisfied: python-dateutil>=2.7 in /usr/local/lib/python3.10/dist-packages (from matplotlib->pygad) (2.8.2)\n",
            "Requirement already satisfied: six>=1.5 in /usr/local/lib/python3.10/dist-packages (from python-dateutil>=2.7->matplotlib->pygad) (1.16.0)\n"
          ]
        }
      ],
      "source": [
        "!pip install pygad"
      ]
    },
    {
      "cell_type": "markdown",
      "source": [
        "Next, we will upload the image we want to recreate. The image (\"vinh.jpg\") is available on the [my.wbs](https://my.wbs.ac.uk/-/academic/318326/resources/in/1649576,1649572/item/1681937/#/) page for the module. Download the file to your machine and then click \"Choose Files\" to upload:"
      ],
      "metadata": {
        "id": "zASagPlacaF2"
      }
    },
    {
      "cell_type": "code",
      "execution_count": 18,
      "metadata": {
        "colab": {
          "base_uri": "https://localhost:8080/",
          "height": 1000
        },
        "id": "i7UcicjWR3kQ",
        "outputId": "9a474d00-6fbd-40e7-a803-4ba74e501ef6"
      },
      "outputs": [
        {
          "output_type": "display_data",
          "data": {
            "text/plain": [
              "<IPython.core.display.HTML object>"
            ],
            "text/html": [
              "\n",
              "     <input type=\"file\" id=\"files-35ba4c53-fb22-4521-9316-dfc3bee2b3ae\" name=\"files[]\" multiple disabled\n",
              "        style=\"border:none\" />\n",
              "     <output id=\"result-35ba4c53-fb22-4521-9316-dfc3bee2b3ae\">\n",
              "      Upload widget is only available when the cell has been executed in the\n",
              "      current browser session. Please rerun this cell to enable.\n",
              "      </output>\n",
              "      <script>// Copyright 2017 Google LLC\n",
              "//\n",
              "// Licensed under the Apache License, Version 2.0 (the \"License\");\n",
              "// you may not use this file except in compliance with the License.\n",
              "// You may obtain a copy of the License at\n",
              "//\n",
              "//      http://www.apache.org/licenses/LICENSE-2.0\n",
              "//\n",
              "// Unless required by applicable law or agreed to in writing, software\n",
              "// distributed under the License is distributed on an \"AS IS\" BASIS,\n",
              "// WITHOUT WARRANTIES OR CONDITIONS OF ANY KIND, either express or implied.\n",
              "// See the License for the specific language governing permissions and\n",
              "// limitations under the License.\n",
              "\n",
              "/**\n",
              " * @fileoverview Helpers for google.colab Python module.\n",
              " */\n",
              "(function(scope) {\n",
              "function span(text, styleAttributes = {}) {\n",
              "  const element = document.createElement('span');\n",
              "  element.textContent = text;\n",
              "  for (const key of Object.keys(styleAttributes)) {\n",
              "    element.style[key] = styleAttributes[key];\n",
              "  }\n",
              "  return element;\n",
              "}\n",
              "\n",
              "// Max number of bytes which will be uploaded at a time.\n",
              "const MAX_PAYLOAD_SIZE = 100 * 1024;\n",
              "\n",
              "function _uploadFiles(inputId, outputId) {\n",
              "  const steps = uploadFilesStep(inputId, outputId);\n",
              "  const outputElement = document.getElementById(outputId);\n",
              "  // Cache steps on the outputElement to make it available for the next call\n",
              "  // to uploadFilesContinue from Python.\n",
              "  outputElement.steps = steps;\n",
              "\n",
              "  return _uploadFilesContinue(outputId);\n",
              "}\n",
              "\n",
              "// This is roughly an async generator (not supported in the browser yet),\n",
              "// where there are multiple asynchronous steps and the Python side is going\n",
              "// to poll for completion of each step.\n",
              "// This uses a Promise to block the python side on completion of each step,\n",
              "// then passes the result of the previous step as the input to the next step.\n",
              "function _uploadFilesContinue(outputId) {\n",
              "  const outputElement = document.getElementById(outputId);\n",
              "  const steps = outputElement.steps;\n",
              "\n",
              "  const next = steps.next(outputElement.lastPromiseValue);\n",
              "  return Promise.resolve(next.value.promise).then((value) => {\n",
              "    // Cache the last promise value to make it available to the next\n",
              "    // step of the generator.\n",
              "    outputElement.lastPromiseValue = value;\n",
              "    return next.value.response;\n",
              "  });\n",
              "}\n",
              "\n",
              "/**\n",
              " * Generator function which is called between each async step of the upload\n",
              " * process.\n",
              " * @param {string} inputId Element ID of the input file picker element.\n",
              " * @param {string} outputId Element ID of the output display.\n",
              " * @return {!Iterable<!Object>} Iterable of next steps.\n",
              " */\n",
              "function* uploadFilesStep(inputId, outputId) {\n",
              "  const inputElement = document.getElementById(inputId);\n",
              "  inputElement.disabled = false;\n",
              "\n",
              "  const outputElement = document.getElementById(outputId);\n",
              "  outputElement.innerHTML = '';\n",
              "\n",
              "  const pickedPromise = new Promise((resolve) => {\n",
              "    inputElement.addEventListener('change', (e) => {\n",
              "      resolve(e.target.files);\n",
              "    });\n",
              "  });\n",
              "\n",
              "  const cancel = document.createElement('button');\n",
              "  inputElement.parentElement.appendChild(cancel);\n",
              "  cancel.textContent = 'Cancel upload';\n",
              "  const cancelPromise = new Promise((resolve) => {\n",
              "    cancel.onclick = () => {\n",
              "      resolve(null);\n",
              "    };\n",
              "  });\n",
              "\n",
              "  // Wait for the user to pick the files.\n",
              "  const files = yield {\n",
              "    promise: Promise.race([pickedPromise, cancelPromise]),\n",
              "    response: {\n",
              "      action: 'starting',\n",
              "    }\n",
              "  };\n",
              "\n",
              "  cancel.remove();\n",
              "\n",
              "  // Disable the input element since further picks are not allowed.\n",
              "  inputElement.disabled = true;\n",
              "\n",
              "  if (!files) {\n",
              "    return {\n",
              "      response: {\n",
              "        action: 'complete',\n",
              "      }\n",
              "    };\n",
              "  }\n",
              "\n",
              "  for (const file of files) {\n",
              "    const li = document.createElement('li');\n",
              "    li.append(span(file.name, {fontWeight: 'bold'}));\n",
              "    li.append(span(\n",
              "        `(${file.type || 'n/a'}) - ${file.size} bytes, ` +\n",
              "        `last modified: ${\n",
              "            file.lastModifiedDate ? file.lastModifiedDate.toLocaleDateString() :\n",
              "                                    'n/a'} - `));\n",
              "    const percent = span('0% done');\n",
              "    li.appendChild(percent);\n",
              "\n",
              "    outputElement.appendChild(li);\n",
              "\n",
              "    const fileDataPromise = new Promise((resolve) => {\n",
              "      const reader = new FileReader();\n",
              "      reader.onload = (e) => {\n",
              "        resolve(e.target.result);\n",
              "      };\n",
              "      reader.readAsArrayBuffer(file);\n",
              "    });\n",
              "    // Wait for the data to be ready.\n",
              "    let fileData = yield {\n",
              "      promise: fileDataPromise,\n",
              "      response: {\n",
              "        action: 'continue',\n",
              "      }\n",
              "    };\n",
              "\n",
              "    // Use a chunked sending to avoid message size limits. See b/62115660.\n",
              "    let position = 0;\n",
              "    do {\n",
              "      const length = Math.min(fileData.byteLength - position, MAX_PAYLOAD_SIZE);\n",
              "      const chunk = new Uint8Array(fileData, position, length);\n",
              "      position += length;\n",
              "\n",
              "      const base64 = btoa(String.fromCharCode.apply(null, chunk));\n",
              "      yield {\n",
              "        response: {\n",
              "          action: 'append',\n",
              "          file: file.name,\n",
              "          data: base64,\n",
              "        },\n",
              "      };\n",
              "\n",
              "      let percentDone = fileData.byteLength === 0 ?\n",
              "          100 :\n",
              "          Math.round((position / fileData.byteLength) * 100);\n",
              "      percent.textContent = `${percentDone}% done`;\n",
              "\n",
              "    } while (position < fileData.byteLength);\n",
              "  }\n",
              "\n",
              "  // All done.\n",
              "  yield {\n",
              "    response: {\n",
              "      action: 'complete',\n",
              "    }\n",
              "  };\n",
              "}\n",
              "\n",
              "scope.google = scope.google || {};\n",
              "scope.google.colab = scope.google.colab || {};\n",
              "scope.google.colab._files = {\n",
              "  _uploadFiles,\n",
              "  _uploadFilesContinue,\n",
              "};\n",
              "})(self);\n",
              "</script> "
            ]
          },
          "metadata": {}
        },
        {
          "output_type": "stream",
          "name": "stdout",
          "text": [
            "Saving vinh.jpg to vinh (1).jpg\n"
          ]
        },
        {
          "output_type": "execute_result",
          "data": {
            "text/plain": [
              "{'vinh (1).jpg': b'\\xff\\xd8\\xff\\xe0\\x00\\x10JFIF\\x00\\x01\\x01\\x01\\x01,\\x01,\\x00\\x00\\xff\\xe1\\x03\\xcaExif\\x00\\x00II*\\x00\\x08\\x00\\x00\\x00\\x0b\\x00\\x0f\\x01\\x02\\x00\\x12\\x00\\x00\\x00\\x92\\x00\\x00\\x00\\x10\\x01\\x02\\x00\\x0c\\x00\\x00\\x00\\xa4\\x00\\x00\\x00\\x12\\x01\\x03\\x00\\x01\\x00\\x00\\x00\\x01\\x00\\x00\\x00\\x1a\\x01\\x05\\x00\\x01\\x00\\x00\\x00\\xb0\\x00\\x00\\x00\\x1b\\x01\\x05\\x00\\x01\\x00\\x00\\x00\\xb8\\x00\\x00\\x00(\\x01\\x03\\x00\\x01\\x00\\x00\\x00\\x02\\x00\\x00\\x001\\x01\\x02\\x00\\r\\x00\\x00\\x00\\xc0\\x00\\x00\\x002\\x01\\x02\\x00\\x14\\x00\\x00\\x00\\xce\\x00\\x00\\x00;\\x01\\x02\\x00\\x0b\\x00\\x00\\x00\\xe2\\x00\\x00\\x00\\x98\\x82\\x02\\x00/\\x00\\x00\\x00\\xee\\x00\\x00\\x00i\\x87\\x04\\x00\\x01\\x00\\x00\\x00\\x1e\\x01\\x00\\x00\\x00\\x00\\x00\\x00NIKON CORPORATION\\x00NIKON Z 6_2\\x00,\\x01\\x00\\x00\\x01\\x00\\x00\\x00,\\x01\\x00\\x00\\x01\\x00\\x00\\x00GIMP 2.10.36\\x00\\x002024:02:20 17:00:44\\x00Jamie Gray\\x00\\x00Copyright Jamie Gray 2022  all rights reserved\\x00\\x00(\\x00\\x9a\\x82\\x05\\x00\\x01\\x00\\x00\\x00\\x04\\x03\\x00\\x00\\x9d\\x82\\x05\\x00\\x01\\x00\\x00\\x00\\x0c\\x03\\x00\\x00\"\\x88\\x03\\x00\\x01\\x00\\x00\\x00\\x01\\x00\\x00\\x00\\'\\x88\\x03\\x00\\x01\\x00\\x00\\x002\\x00\\x00\\x000\\x88\\x03\\x00\\x01\\x00\\x00\\x00\\x02\\x00\\x00\\x00\\x00\\x90\\x07\\x00\\x04\\x00\\x00\\x000231\\x03\\x90\\x02\\x00\\x14\\x00\\x00\\x00\\x14\\x03\\x00\\x00\\x04\\x90\\x02\\x00\\x14\\x00\\x00\\x00(\\x03\\x00\\x00\\x10\\x90\\x02\\x00\\x07\\x00\\x00\\x00<\\x03\\x00\\x00\\x11\\x90\\x02\\x00\\x07\\x00\\x00\\x00D\\x03\\x00\\x00\\x12\\x90\\x02\\x00\\x07\\x00\\x00\\x00L\\x03\\x00\\x00\\x01\\x92\\n\\x00\\x01\\x00\\x00\\x00T\\x03\\x00\\x00\\x02\\x92\\x05\\x00\\x01\\x00\\x00\\x00\\\\\\x03\\x00\\x00\\x04\\x92\\n\\x00\\x01\\x00\\x00\\x00d\\x03\\x00\\x00\\x07\\x92\\x03\\x00\\x01\\x00\\x00\\x00\\x05\\x00\\x00\\x00\\x08\\x92\\x03\\x00\\x01\\x00\\x00\\x00\\t\\x00\\x00\\x00\\t\\x92\\x03\\x00\\x01\\x00\\x00\\x00\\x00\\x00\\x00\\x00\\n\\x92\\x05\\x00\\x01\\x00\\x00\\x00l\\x03\\x00\\x00\\x91\\x92\\x02\\x00\\x03\\x00\\x00\\x0012\\x00\\x00\\x92\\x92\\x02\\x00\\x03\\x00\\x00\\x0012\\x00\\x00\\x0e\\xa2\\x05\\x00\\x01\\x00\\x00\\x00t\\x03\\x00\\x00\\x0f\\xa2\\x05\\x00\\x01\\x00\\x00\\x00|\\x03\\x00\\x00\\x10\\xa2\\x03\\x00\\x01\\x00\\x00\\x00\\x03\\x00\\x00\\x00\\x17\\xa2\\x03\\x00\\x01\\x00\\x00\\x00\\x02\\x00\\x00\\x00\\x00\\xa3\\x07\\x00\\x01\\x00\\x00\\x00\\x03\\x00\\x00\\x00\\x01\\xa3\\x07\\x00\\x01\\x00\\x00\\x00\\x01\\x00\\x00\\x00\\x02\\xa3\\x07\\x00\\x08\\x00\\x00\\x00\\x84\\x03\\x00\\x00\\x01\\xa4\\x03\\x00\\x01\\x00\\x00\\x00\\x01\\x00\\x00\\x00\\x02\\xa4\\x03\\x00\\x01\\x00\\x00\\x00\\x01\\x00\\x00\\x00\\x03\\xa4\\x03\\x00\\x01\\x00\\x00\\x00\\x01\\x00\\x00\\x00\\x05\\xa4\\x03\\x00\\x01\\x00\\x00\\x00i\\x00\\x00\\x00\\x06\\xa4\\x03\\x00\\x01\\x00\\x00\\x00\\x00\\x00\\x00\\x00\\x07\\xa4\\x03\\x00\\x01\\x00\\x00\\x00\\x00\\x00\\x00\\x00\\x08\\xa4\\x03\\x00\\x01\\x00\\x00\\x00\\x00\\x00\\x00\\x00\\t\\xa4\\x03\\x00\\x01\\x00\\x00\\x00\\x00\\x00\\x00\\x00\\n\\xa4\\x03\\x00\\x01\\x00\\x00\\x00\\x00\\x00\\x00\\x00\\x0c\\xa4\\x03\\x00\\x01\\x00\\x00\\x00\\x00\\x00\\x00\\x001\\xa4\\x02\\x00\\x08\\x00\\x00\\x00\\x8c\\x03\\x00\\x002\\xa4\\x05\\x00\\x04\\x00\\x00\\x00\\x94\\x03\\x00\\x004\\xa4\\x02\\x00\\r\\x00\\x00\\x00\\xb4\\x03\\x00\\x00\\x00\\x00\\x00\\x00\\x01\\x00\\x00\\x00\\xb4\\x00\\x00\\x00\\x02\\x00\\x00\\x00\\x01\\x00\\x00\\x002022:09:23 12:50:00\\x002022:09:23 12:50:00\\x00+01:00\\x00\\x00+00:00\\x00\\x00+00:00\\x00\\x00\\rQr\\x00@B\\x0f\\x00\\x02\\x00\\x00\\x00\\x01\\x00\\x00\\x00\\x00\\x00\\x00\\x00\\x06\\x00\\x00\\x00\\x1a\\x04\\x00\\x00\\n\\x00\\x00\\x00\\x84\\x88I\\x03\\x00\\x80\\x00\\x00\\x84\\x88I\\x03\\x00\\x80\\x00\\x00\\x02\\x00\\x02\\x00\\x00\\x01\\x01\\x026003615\\x00\\x1a\\x04\\x00\\x00\\n\\x00\\x00\\x00\\x1a\\x04\\x00\\x00\\n\\x00\\x00\\x00\\x8c\\x00\\x00\\x00d\\x00\\x00\\x00\\x8c\\x00\\x00\\x00d\\x00\\x00\\x00105mm f/1.4E\\x00\\x00\\xff\\xe1\\x1f\\xafhttp://ns.adobe.com/xap/1.0/\\x00<?xpacket begin=\"\\xef\\xbb\\xbf\" id=\"W5M0MpCehiHzreSzNTczkc9d\"?> <x:xmpmeta xmlns:x=\"adobe:ns:meta/\" x:xmptk=\"XMP Core 4.4.0-Exiv2\"> <rdf:RDF xmlns:rdf=\"http://www.w3.org/1999/02/22-rdf-syntax-ns#\"> <rdf:Description rdf:about=\"\" xmlns:xmpMM=\"http://ns.adobe.com/xap/1.0/mm/\" xmlns:stEvt=\"http://ns.adobe.com/xap/1.0/sType/ResourceEvent#\" xmlns:stRef=\"http://ns.adobe.com/xap/1.0/sType/ResourceRef#\" xmlns:aux=\"http://ns.adobe.com/exif/1.0/aux/\" xmlns:crs=\"http://ns.adobe.com/camera-raw-settings/1.0/\" xmlns:dc=\"http://purl.org/dc/elements/1.1/\" xmlns:exifEX=\"http://cipa.jp/exif/1.0/\" xmlns:GIMP=\"http://www.gimp.org/xmp/\" xmlns:iptcExt=\"http://iptc.org/std/Iptc4xmpExt/2008-02-29/\" xmlns:photoshop=\"http://ns.adobe.com/photoshop/1.0/\" xmlns:plus=\"http://ns.useplus.org/ldf/xmp/1.0/\" xmlns:xmp=\"http://ns.adobe.com/xap/1.0/\" xmpMM:DocumentID=\"xmp.did:918ac882-2778-4a1e-86d0-35466afb0a12\" xmpMM:InstanceID=\"xmp.iid:6399518b-69fa-423e-9663-d539f82a05d8\" xmpMM:OriginalDocumentID=\"5A359C0522E9BC6B154EB0DB8EBD30AD\" xmpMM:PreservedFileName=\"JJG_3992.NEF\" aux:ImageNumber=\"40480\" aux:LateralChromaticAberrationCorrectionAlreadyApplied=\"True\" aux:Lens=\"105mm f/1.4E\" aux:LensInfo=\"1050/10 1050/10 140/100 140/100\" aux:SerialNumber=\"6003615\" crs:AlreadyApplied=\"True\" crs:AutoLateralCA=\"1\" crs:Blacks2012=\"-16\" crs:BlueHue=\"0\" crs:BlueSaturation=\"0\" crs:CameraProfile=\"Camera Neutral\" crs:CameraProfileDigest=\"40ED3F8B37D0318F0A8C0C7C98AD3507\" crs:Clarity2012=\"-20\" crs:ColorGradeBlending=\"50\" crs:ColorGradeGlobalHue=\"0\" crs:ColorGradeGlobalLum=\"0\" crs:ColorGradeGlobalSat=\"0\" crs:ColorGradeHighlightLum=\"0\" crs:ColorGradeMidtoneHue=\"0\" crs:ColorGradeMidtoneLum=\"0\" crs:ColorGradeMidtoneSat=\"0\" crs:ColorGradeShadowLum=\"0\" crs:ColorNoiseReduction=\"9\" crs:ColorNoiseReductionDetail=\"50\" crs:ColorNoiseReductionSmoothness=\"50\" crs:Contrast2012=\"-15\" crs:ConvertToGrayscale=\"False\" crs:CropAngle=\"0\" crs:CropBottom=\"1\" crs:CropConstrainToWarp=\"0\" crs:CropLeft=\"0\" crs:CropRight=\"1\" crs:CropTop=\"0\" crs:DefringeGreenAmount=\"0\" crs:DefringeGreenHueHi=\"60\" crs:DefringeGreenHueLo=\"40\" crs:DefringePurpleAmount=\"0\" crs:DefringePurpleHueHi=\"70\" crs:DefringePurpleHueLo=\"30\" crs:Dehaze=\"0\" crs:Exposure2012=\"0.00\" crs:GrainAmount=\"0\" crs:GreenHue=\"0\" crs:GreenSaturation=\"0\" crs:HasCrop=\"False\" crs:HasSettings=\"True\" crs:Highlights2012=\"-44\" crs:HueAdjustmentAqua=\"0\" crs:HueAdjustmentBlue=\"0\" crs:HueAdjustmentGreen=\"0\" crs:HueAdjustmentMagenta=\"0\" crs:HueAdjustmentOrange=\"0\" crs:HueAdjustmentPurple=\"0\" crs:HueAdjustmentRed=\"0\" crs:HueAdjustmentYellow=\"0\" crs:LensManualDistortionAmount=\"0\" crs:LensProfileEnable=\"0\" crs:LuminanceAdjustmentAqua=\"0\" crs:LuminanceAdjustmentBlue=\"0\" crs:LuminanceAdjustmentGreen=\"0\" crs:LuminanceAdjustmentMagenta=\"0\" crs:LuminanceAdjustmentOrange=\"0\" crs:LuminanceAdjustmentPurple=\"0\" crs:LuminanceAdjustmentRed=\"0\" crs:LuminanceAdjustmentYellow=\"0\" crs:LuminanceNoiseReductionContrast=\"0\" crs:LuminanceNoiseReductionDetail=\"75\" crs:LuminanceSmoothing=\"10\" crs:OverrideLookVignette=\"False\" crs:ParametricDarks=\"0\" crs:ParametricHighlights=\"0\" crs:ParametricHighlightSplit=\"75\" crs:ParametricLights=\"0\" crs:ParametricMidtoneSplit=\"50\" crs:ParametricShadows=\"0\" crs:ParametricShadowSplit=\"25\" crs:PerspectiveAspect=\"0\" crs:PerspectiveHorizontal=\"0\" crs:PerspectiveRotate=\"0.0\" crs:PerspectiveScale=\"100\" crs:PerspectiveUpright=\"0\" crs:PerspectiveVertical=\"0\" crs:PerspectiveX=\"0.00\" crs:PerspectiveY=\"0.00\" crs:PostCropVignetteAmount=\"0\" crs:ProcessVersion=\"11.0\" crs:RawFileName=\"JJG_3992.NEF\" crs:RedHue=\"0\" crs:RedSaturation=\"0\" crs:Saturation=\"0\" crs:SaturationAdjustmentAqua=\"+6\" crs:SaturationAdjustmentBlue=\"-1\" crs:SaturationAdjustmentGreen=\"+27\" crs:SaturationAdjustmentMagenta=\"+9\" crs:SaturationAdjustmentOrange=\"+12\" crs:SaturationAdjustmentPurple=\"+23\" crs:SaturationAdjustmentRed=\"-12\" crs:SaturationAdjustmentYellow=\"-13\" crs:Shadows2012=\"+27\" crs:ShadowTint=\"0\" crs:SharpenDetail=\"25\" crs:SharpenEdgeMasking=\"0\" crs:SharpenRadius=\"+1.1\" crs:Sharpness=\"24\" crs:SplitToningBalance=\"0\" crs:SplitToningHighlightHue=\"0\" crs:SplitToningHighlightSaturation=\"0\" crs:SplitToningShadowHue=\"0\" crs:SplitToningShadowSaturation=\"0\" crs:Temperature=\"5021\" crs:Texture=\"-11\" crs:Tint=\"+11\" crs:ToneCurveName2012=\"Custom\" crs:ToneCurvePV2012=\"0, 0, 66, 69, 173, 180, 255, 255\" crs:ToneCurvePV2012Blue=\"0, 0, 58, 58, 183, 185, 255, 255\" crs:ToneCurvePV2012Green=\"0, 0, 255, 255\" crs:ToneCurvePV2012Red=\"0, 0, 255, 255\" crs:Version=\"14.5\" crs:Vibrance=\"0\" crs:VignetteAmount=\"0\" crs:WhiteBalance=\"Custom\" crs:Whites2012=\"-9\" dc:format=\"image/jpeg\" exifEX:LensModel=\"105mm f/1.4E\" GIMP:API=\"2.0\" GIMP:Platform=\"Windows\" GIMP:TimeStamp=\"1708448446231791\" GIMP:Version=\"2.10.36\" iptcExt:DigitalSourceType=\"nil\" photoshop:DateCreated=\"2022-09-23T08:40:48.68Z\" plus:MinorModelAgeDisclosure=\"nil\" plus:ModelReleaseStatus=\"nil\" plus:PropertyReleaseStatus=\"nil\" plus:Version=\"1.2.0\" xmp:CreateDate=\"2022-09-23T12:50:00.12Z\" xmp:CreatorTool=\"GIMP 2.10\" xmp:MetadataDate=\"2024:02:20T17:00:44+00:00\" xmp:ModifyDate=\"2024:02:20T17:00:44+00:00\"> <xmpMM:History> <rdf:Seq> <rdf:li stEvt:action=\"derived\" stEvt:parameters=\"converted from image/x-nikon-nef to image/jpeg, saved to new location\"/> <rdf:li stEvt:action=\"saved\" stEvt:changed=\"/\" stEvt:instanceID=\"xmp.iid:918ac882-2778-4a1e-86d0-35466afb0a12\" stEvt:softwareAgent=\"Adobe Photoshop Lightroom Classic 11.5 (Macintosh)\" stEvt:when=\"2022-09-25T19:51:02+01:00\"/> <rdf:li stEvt:action=\"saved\" stEvt:changed=\"/\" stEvt:instanceID=\"xmp.iid:66c4c72d-1838-4891-bf6b-047cdc2c1693\" stEvt:softwareAgent=\"Gimp 2.10 (Windows)\" stEvt:when=\"2024-02-20T17:00:46\"/> </rdf:Seq> </xmpMM:History> <xmpMM:DerivedFrom stRef:documentID=\"5A359C0522E9BC6B154EB0DB8EBD30AD\" stRef:originalDocumentID=\"5A359C0522E9BC6B154EB0DB8EBD30AD\"/> <dc:creator> <rdf:Seq> <rdf:li>Jamie Gray</rdf:li> </rdf:Seq> </dc:creator> <dc:rights> <rdf:Alt> <rdf:li xml:lang=\"x-default\">Copyright Jamie Gray 2022  all rights reserved</rdf:li> </rdf:Alt> </dc:rights> </rdf:Description> </rdf:RDF> </x:xmpmeta>                                                                                                                                                                                                                                                                                                                                                                                                                                                                                                                                                                                                                                                                                                                                                                                                                                                                                                                                                                                                                                                                                                                                                                                                                                                                                                                                                                                                                                                                                                                                                                                                                                                                                                                                                                                                                                                                                                                                                                                                                                                                                                                                 <?xpacket end=\"w\"?>\\xff\\xe2\\x0cXICC_PROFILE\\x00\\x01\\x01\\x00\\x00\\x0cHLino\\x02\\x10\\x00\\x00mntrRGB XYZ \\x07\\xce\\x00\\x02\\x00\\t\\x00\\x06\\x001\\x00\\x00acspMSFT\\x00\\x00\\x00\\x00IEC sRGB\\x00\\x00\\x00\\x00\\x00\\x00\\x00\\x00\\x00\\x00\\x00\\x00\\x00\\x00\\xf6\\xd6\\x00\\x01\\x00\\x00\\x00\\x00\\xd3-HP  \\x00\\x00\\x00\\x00\\x00\\x00\\x00\\x00\\x00\\x00\\x00\\x00\\x00\\x00\\x00\\x00\\x00\\x00\\x00\\x00\\x00\\x00\\x00\\x00\\x00\\x00\\x00\\x00\\x00\\x00\\x00\\x00\\x00\\x00\\x00\\x00\\x00\\x00\\x00\\x00\\x00\\x00\\x00\\x00\\x00\\x00\\x00\\x11cprt\\x00\\x00\\x01P\\x00\\x00\\x003desc\\x00\\x00\\x01\\x84\\x00\\x00\\x00lwtpt\\x00\\x00\\x01\\xf0\\x00\\x00\\x00\\x14bkpt\\x00\\x00\\x02\\x04\\x00\\x00\\x00\\x14rXYZ\\x00\\x00\\x02\\x18\\x00\\x00\\x00\\x14gXYZ\\x00\\x00\\x02,\\x00\\x00\\x00\\x14bXYZ\\x00\\x00\\x02@\\x00\\x00\\x00\\x14dmnd\\x00\\x00\\x02T\\x00\\x00\\x00pdmdd\\x00\\x00\\x02\\xc4\\x00\\x00\\x00\\x88vued\\x00\\x00\\x03L\\x00\\x00\\x00\\x86view\\x00\\x00\\x03\\xd4\\x00\\x00\\x00$lumi\\x00\\x00\\x03\\xf8\\x00\\x00\\x00\\x14meas\\x00\\x00\\x04\\x0c\\x00\\x00\\x00$tech\\x00\\x00\\x040\\x00\\x00\\x00\\x0crTRC\\x00\\x00\\x04<\\x00\\x00\\x08\\x0cgTRC\\x00\\x00\\x04<\\x00\\x00\\x08\\x0cbTRC\\x00\\x00\\x04<\\x00\\x00\\x08\\x0ctext\\x00\\x00\\x00\\x00Copyright (c) 1998 Hewlett-Packard Company\\x00\\x00desc\\x00\\x00\\x00\\x00\\x00\\x00\\x00\\x12sRGB IEC61966-2.1\\x00\\x00\\x00\\x00\\x00\\x00\\x00\\x00\\x00\\x00\\x00\\x12sRGB IEC61966-2.1\\x00\\x00\\x00\\x00\\x00\\x00\\x00\\x00\\x00\\x00\\x00\\x00\\x00\\x00\\x00\\x00\\x00\\x00\\x00\\x00\\x00\\x00\\x00\\x00\\x00\\x00\\x00\\x00\\x00\\x00\\x00\\x00\\x00\\x00\\x00\\x00\\x00\\x00\\x00\\x00\\x00\\x00\\x00\\x00\\x00\\x00\\x00\\x00\\x00\\x00XYZ \\x00\\x00\\x00\\x00\\x00\\x00\\xf3Q\\x00\\x01\\x00\\x00\\x00\\x01\\x16\\xccXYZ \\x00\\x00\\x00\\x00\\x00\\x00\\x00\\x00\\x00\\x00\\x00\\x00\\x00\\x00\\x00\\x00XYZ \\x00\\x00\\x00\\x00\\x00\\x00o\\xa2\\x00\\x008\\xf5\\x00\\x00\\x03\\x90XYZ \\x00\\x00\\x00\\x00\\x00\\x00b\\x99\\x00\\x00\\xb7\\x85\\x00\\x00\\x18\\xdaXYZ \\x00\\x00\\x00\\x00\\x00\\x00$\\xa0\\x00\\x00\\x0f\\x84\\x00\\x00\\xb6\\xcfdesc\\x00\\x00\\x00\\x00\\x00\\x00\\x00\\x16IEC http://www.iec.ch\\x00\\x00\\x00\\x00\\x00\\x00\\x00\\x00\\x00\\x00\\x00\\x16IEC http://www.iec.ch\\x00\\x00\\x00\\x00\\x00\\x00\\x00\\x00\\x00\\x00\\x00\\x00\\x00\\x00\\x00\\x00\\x00\\x00\\x00\\x00\\x00\\x00\\x00\\x00\\x00\\x00\\x00\\x00\\x00\\x00\\x00\\x00\\x00\\x00\\x00\\x00\\x00\\x00\\x00\\x00\\x00\\x00\\x00\\x00\\x00\\x00desc\\x00\\x00\\x00\\x00\\x00\\x00\\x00.IEC 61966-2.1 Default RGB colour space - sRGB\\x00\\x00\\x00\\x00\\x00\\x00\\x00\\x00\\x00\\x00\\x00.IEC 61966-2.1 Default RGB colour space - sRGB\\x00\\x00\\x00\\x00\\x00\\x00\\x00\\x00\\x00\\x00\\x00\\x00\\x00\\x00\\x00\\x00\\x00\\x00\\x00\\x00\\x00\\x00desc\\x00\\x00\\x00\\x00\\x00\\x00\\x00,Reference Viewing Condition in IEC61966-2.1\\x00\\x00\\x00\\x00\\x00\\x00\\x00\\x00\\x00\\x00\\x00,Reference Viewing Condition in IEC61966-2.1\\x00\\x00\\x00\\x00\\x00\\x00\\x00\\x00\\x00\\x00\\x00\\x00\\x00\\x00\\x00\\x00\\x00\\x00\\x00\\x00\\x00\\x00\\x00\\x00\\x00\\x00view\\x00\\x00\\x00\\x00\\x00\\x13\\xa4\\xfe\\x00\\x14_.\\x00\\x10\\xcf\\x14\\x00\\x03\\xed\\xcc\\x00\\x04\\x13\\x0b\\x00\\x03\\\\\\x9e\\x00\\x00\\x00\\x01XYZ \\x00\\x00\\x00\\x00\\x00L\\tV\\x00P\\x00\\x00\\x00W\\x1f\\xe7meas\\x00\\x00\\x00\\x00\\x00\\x00\\x00\\x01\\x00\\x00\\x00\\x00\\x00\\x00\\x00\\x00\\x00\\x00\\x00\\x00\\x00\\x00\\x00\\x00\\x00\\x00\\x02\\x8f\\x00\\x00\\x00\\x02sig \\x00\\x00\\x00\\x00CRT curv\\x00\\x00\\x00\\x00\\x00\\x00\\x04\\x00\\x00\\x00\\x00\\x05\\x00\\n\\x00\\x0f\\x00\\x14\\x00\\x19\\x00\\x1e\\x00#\\x00(\\x00-\\x002\\x007\\x00;\\x00@\\x00E\\x00J\\x00O\\x00T\\x00Y\\x00^\\x00c\\x00h\\x00m\\x00r\\x00w\\x00|\\x00\\x81\\x00\\x86\\x00\\x8b\\x00\\x90\\x00\\x95\\x00\\x9a\\x00\\x9f\\x00\\xa4\\x00\\xa9\\x00\\xae\\x00\\xb2\\x00\\xb7\\x00\\xbc\\x00\\xc1\\x00\\xc6\\x00\\xcb\\x00\\xd0\\x00\\xd5\\x00\\xdb\\x00\\xe0\\x00\\xe5\\x00\\xeb\\x00\\xf0\\x00\\xf6\\x00\\xfb\\x01\\x01\\x01\\x07\\x01\\r\\x01\\x13\\x01\\x19\\x01\\x1f\\x01%\\x01+\\x012\\x018\\x01>\\x01E\\x01L\\x01R\\x01Y\\x01`\\x01g\\x01n\\x01u\\x01|\\x01\\x83\\x01\\x8b\\x01\\x92\\x01\\x9a\\x01\\xa1\\x01\\xa9\\x01\\xb1\\x01\\xb9\\x01\\xc1\\x01\\xc9\\x01\\xd1\\x01\\xd9\\x01\\xe1\\x01\\xe9\\x01\\xf2\\x01\\xfa\\x02\\x03\\x02\\x0c\\x02\\x14\\x02\\x1d\\x02&\\x02/\\x028\\x02A\\x02K\\x02T\\x02]\\x02g\\x02q\\x02z\\x02\\x84\\x02\\x8e\\x02\\x98\\x02\\xa2\\x02\\xac\\x02\\xb6\\x02\\xc1\\x02\\xcb\\x02\\xd5\\x02\\xe0\\x02\\xeb\\x02\\xf5\\x03\\x00\\x03\\x0b\\x03\\x16\\x03!\\x03-\\x038\\x03C\\x03O\\x03Z\\x03f\\x03r\\x03~\\x03\\x8a\\x03\\x96\\x03\\xa2\\x03\\xae\\x03\\xba\\x03\\xc7\\x03\\xd3\\x03\\xe0\\x03\\xec\\x03\\xf9\\x04\\x06\\x04\\x13\\x04 \\x04-\\x04;\\x04H\\x04U\\x04c\\x04q\\x04~\\x04\\x8c\\x04\\x9a\\x04\\xa8\\x04\\xb6\\x04\\xc4\\x04\\xd3\\x04\\xe1\\x04\\xf0\\x04\\xfe\\x05\\r\\x05\\x1c\\x05+\\x05:\\x05I\\x05X\\x05g\\x05w\\x05\\x86\\x05\\x96\\x05\\xa6\\x05\\xb5\\x05\\xc5\\x05\\xd5\\x05\\xe5\\x05\\xf6\\x06\\x06\\x06\\x16\\x06\\'\\x067\\x06H\\x06Y\\x06j\\x06{\\x06\\x8c\\x06\\x9d\\x06\\xaf\\x06\\xc0\\x06\\xd1\\x06\\xe3\\x06\\xf5\\x07\\x07\\x07\\x19\\x07+\\x07=\\x07O\\x07a\\x07t\\x07\\x86\\x07\\x99\\x07\\xac\\x07\\xbf\\x07\\xd2\\x07\\xe5\\x07\\xf8\\x08\\x0b\\x08\\x1f\\x082\\x08F\\x08Z\\x08n\\x08\\x82\\x08\\x96\\x08\\xaa\\x08\\xbe\\x08\\xd2\\x08\\xe7\\x08\\xfb\\t\\x10\\t%\\t:\\tO\\td\\ty\\t\\x8f\\t\\xa4\\t\\xba\\t\\xcf\\t\\xe5\\t\\xfb\\n\\x11\\n\\'\\n=\\nT\\nj\\n\\x81\\n\\x98\\n\\xae\\n\\xc5\\n\\xdc\\n\\xf3\\x0b\\x0b\\x0b\"\\x0b9\\x0bQ\\x0bi\\x0b\\x80\\x0b\\x98\\x0b\\xb0\\x0b\\xc8\\x0b\\xe1\\x0b\\xf9\\x0c\\x12\\x0c*\\x0cC\\x0c\\\\\\x0cu\\x0c\\x8e\\x0c\\xa7\\x0c\\xc0\\x0c\\xd9\\x0c\\xf3\\r\\r\\r&\\r@\\rZ\\rt\\r\\x8e\\r\\xa9\\r\\xc3\\r\\xde\\r\\xf8\\x0e\\x13\\x0e.\\x0eI\\x0ed\\x0e\\x7f\\x0e\\x9b\\x0e\\xb6\\x0e\\xd2\\x0e\\xee\\x0f\\t\\x0f%\\x0fA\\x0f^\\x0fz\\x0f\\x96\\x0f\\xb3\\x0f\\xcf\\x0f\\xec\\x10\\t\\x10&\\x10C\\x10a\\x10~\\x10\\x9b\\x10\\xb9\\x10\\xd7\\x10\\xf5\\x11\\x13\\x111\\x11O\\x11m\\x11\\x8c\\x11\\xaa\\x11\\xc9\\x11\\xe8\\x12\\x07\\x12&\\x12E\\x12d\\x12\\x84\\x12\\xa3\\x12\\xc3\\x12\\xe3\\x13\\x03\\x13#\\x13C\\x13c\\x13\\x83\\x13\\xa4\\x13\\xc5\\x13\\xe5\\x14\\x06\\x14\\'\\x14I\\x14j\\x14\\x8b\\x14\\xad\\x14\\xce\\x14\\xf0\\x15\\x12\\x154\\x15V\\x15x\\x15\\x9b\\x15\\xbd\\x15\\xe0\\x16\\x03\\x16&\\x16I\\x16l\\x16\\x8f\\x16\\xb2\\x16\\xd6\\x16\\xfa\\x17\\x1d\\x17A\\x17e\\x17\\x89\\x17\\xae\\x17\\xd2\\x17\\xf7\\x18\\x1b\\x18@\\x18e\\x18\\x8a\\x18\\xaf\\x18\\xd5\\x18\\xfa\\x19 \\x19E\\x19k\\x19\\x91\\x19\\xb7\\x19\\xdd\\x1a\\x04\\x1a*\\x1aQ\\x1aw\\x1a\\x9e\\x1a\\xc5\\x1a\\xec\\x1b\\x14\\x1b;\\x1bc\\x1b\\x8a\\x1b\\xb2\\x1b\\xda\\x1c\\x02\\x1c*\\x1cR\\x1c{\\x1c\\xa3\\x1c\\xcc\\x1c\\xf5\\x1d\\x1e\\x1dG\\x1dp\\x1d\\x99\\x1d\\xc3\\x1d\\xec\\x1e\\x16\\x1e@\\x1ej\\x1e\\x94\\x1e\\xbe\\x1e\\xe9\\x1f\\x13\\x1f>\\x1fi\\x1f\\x94\\x1f\\xbf\\x1f\\xea \\x15 A l \\x98 \\xc4 \\xf0!\\x1c!H!u!\\xa1!\\xce!\\xfb\"\\'\"U\"\\x82\"\\xaf\"\\xdd#\\n#8#f#\\x94#\\xc2#\\xf0$\\x1f$M$|$\\xab$\\xda%\\t%8%h%\\x97%\\xc7%\\xf7&\\'&W&\\x87&\\xb7&\\xe8\\'\\x18\\'I\\'z\\'\\xab\\'\\xdc(\\r(?(q(\\xa2(\\xd4)\\x06)8)k)\\x9d)\\xd0*\\x02*5*h*\\x9b*\\xcf+\\x02+6+i+\\x9d+\\xd1,\\x05,9,n,\\xa2,\\xd7-\\x0c-A-v-\\xab-\\xe1.\\x16.L.\\x82.\\xb7.\\xee/$/Z/\\x91/\\xc7/\\xfe050l0\\xa40\\xdb1\\x121J1\\x821\\xba1\\xf22*2c2\\x9b2\\xd43\\r3F3\\x7f3\\xb83\\xf14+4e4\\x9e4\\xd85\\x135M5\\x875\\xc25\\xfd676r6\\xae6\\xe97$7`7\\x9c7\\xd78\\x148P8\\x8c8\\xc89\\x059B9\\x7f9\\xbc9\\xf9:6:t:\\xb2:\\xef;-;k;\\xaa;\\xe8<\\'<e<\\xa4<\\xe3=\"=a=\\xa1=\\xe0> >`>\\xa0>\\xe0?!?a?\\xa2?\\xe2@#@d@\\xa6@\\xe7A)AjA\\xacA\\xeeB0BrB\\xb5B\\xf7C:C}C\\xc0D\\x03DGD\\x8aD\\xceE\\x12EUE\\x9aE\\xdeF\"FgF\\xabF\\xf0G5G{G\\xc0H\\x05HKH\\x91H\\xd7I\\x1dIcI\\xa9I\\xf0J7J}J\\xc4K\\x0cKSK\\x9aK\\xe2L*LrL\\xbaM\\x02MJM\\x93M\\xdcN%NnN\\xb7O\\x00OIO\\x93O\\xddP\\'PqP\\xbbQ\\x06QPQ\\x9bQ\\xe6R1R|R\\xc7S\\x13S_S\\xaaS\\xf6TBT\\x8fT\\xdbU(UuU\\xc2V\\x0fV\\\\V\\xa9V\\xf7WDW\\x92W\\xe0X/X}X\\xcbY\\x1aYiY\\xb8Z\\x07ZVZ\\xa6Z\\xf5[E[\\x95[\\xe5\\\\5\\\\\\x86\\\\\\xd6]\\']x]\\xc9^\\x1a^l^\\xbd_\\x0f_a_\\xb3`\\x05`W`\\xaa`\\xfcaOa\\xa2a\\xf5bIb\\x9cb\\xf0cCc\\x97c\\xebd@d\\x94d\\xe9e=e\\x92e\\xe7f=f\\x92f\\xe8g=g\\x93g\\xe9h?h\\x96h\\xeciCi\\x9ai\\xf1jHj\\x9fj\\xf7kOk\\xa7k\\xfflWl\\xafm\\x08m`m\\xb9n\\x12nkn\\xc4o\\x1eoxo\\xd1p+p\\x86p\\xe0q:q\\x95q\\xf0rKr\\xa6s\\x01s]s\\xb8t\\x14tpt\\xccu(u\\x85u\\xe1v>v\\x9bv\\xf8wVw\\xb3x\\x11xnx\\xccy*y\\x89y\\xe7zFz\\xa5{\\x04{c{\\xc2|!|\\x81|\\xe1}A}\\xa1~\\x01~b~\\xc2\\x7f#\\x7f\\x84\\x7f\\xe5\\x80G\\x80\\xa8\\x81\\n\\x81k\\x81\\xcd\\x820\\x82\\x92\\x82\\xf4\\x83W\\x83\\xba\\x84\\x1d\\x84\\x80\\x84\\xe3\\x85G\\x85\\xab\\x86\\x0e\\x86r\\x86\\xd7\\x87;\\x87\\x9f\\x88\\x04\\x88i\\x88\\xce\\x893\\x89\\x99\\x89\\xfe\\x8ad\\x8a\\xca\\x8b0\\x8b\\x96\\x8b\\xfc\\x8cc\\x8c\\xca\\x8d1\\x8d\\x98\\x8d\\xff\\x8ef\\x8e\\xce\\x8f6\\x8f\\x9e\\x90\\x06\\x90n\\x90\\xd6\\x91?\\x91\\xa8\\x92\\x11\\x92z\\x92\\xe3\\x93M\\x93\\xb6\\x94 \\x94\\x8a\\x94\\xf4\\x95_\\x95\\xc9\\x964\\x96\\x9f\\x97\\n\\x97u\\x97\\xe0\\x98L\\x98\\xb8\\x99$\\x99\\x90\\x99\\xfc\\x9ah\\x9a\\xd5\\x9bB\\x9b\\xaf\\x9c\\x1c\\x9c\\x89\\x9c\\xf7\\x9dd\\x9d\\xd2\\x9e@\\x9e\\xae\\x9f\\x1d\\x9f\\x8b\\x9f\\xfa\\xa0i\\xa0\\xd8\\xa1G\\xa1\\xb6\\xa2&\\xa2\\x96\\xa3\\x06\\xa3v\\xa3\\xe6\\xa4V\\xa4\\xc7\\xa58\\xa5\\xa9\\xa6\\x1a\\xa6\\x8b\\xa6\\xfd\\xa7n\\xa7\\xe0\\xa8R\\xa8\\xc4\\xa97\\xa9\\xa9\\xaa\\x1c\\xaa\\x8f\\xab\\x02\\xabu\\xab\\xe9\\xac\\\\\\xac\\xd0\\xadD\\xad\\xb8\\xae-\\xae\\xa1\\xaf\\x16\\xaf\\x8b\\xb0\\x00\\xb0u\\xb0\\xea\\xb1`\\xb1\\xd6\\xb2K\\xb2\\xc2\\xb38\\xb3\\xae\\xb4%\\xb4\\x9c\\xb5\\x13\\xb5\\x8a\\xb6\\x01\\xb6y\\xb6\\xf0\\xb7h\\xb7\\xe0\\xb8Y\\xb8\\xd1\\xb9J\\xb9\\xc2\\xba;\\xba\\xb5\\xbb.\\xbb\\xa7\\xbc!\\xbc\\x9b\\xbd\\x15\\xbd\\x8f\\xbe\\n\\xbe\\x84\\xbe\\xff\\xbfz\\xbf\\xf5\\xc0p\\xc0\\xec\\xc1g\\xc1\\xe3\\xc2_\\xc2\\xdb\\xc3X\\xc3\\xd4\\xc4Q\\xc4\\xce\\xc5K\\xc5\\xc8\\xc6F\\xc6\\xc3\\xc7A\\xc7\\xbf\\xc8=\\xc8\\xbc\\xc9:\\xc9\\xb9\\xca8\\xca\\xb7\\xcb6\\xcb\\xb6\\xcc5\\xcc\\xb5\\xcd5\\xcd\\xb5\\xce6\\xce\\xb6\\xcf7\\xcf\\xb8\\xd09\\xd0\\xba\\xd1<\\xd1\\xbe\\xd2?\\xd2\\xc1\\xd3D\\xd3\\xc6\\xd4I\\xd4\\xcb\\xd5N\\xd5\\xd1\\xd6U\\xd6\\xd8\\xd7\\\\\\xd7\\xe0\\xd8d\\xd8\\xe8\\xd9l\\xd9\\xf1\\xdav\\xda\\xfb\\xdb\\x80\\xdc\\x05\\xdc\\x8a\\xdd\\x10\\xdd\\x96\\xde\\x1c\\xde\\xa2\\xdf)\\xdf\\xaf\\xe06\\xe0\\xbd\\xe1D\\xe1\\xcc\\xe2S\\xe2\\xdb\\xe3c\\xe3\\xeb\\xe4s\\xe4\\xfc\\xe5\\x84\\xe6\\r\\xe6\\x96\\xe7\\x1f\\xe7\\xa9\\xe82\\xe8\\xbc\\xe9F\\xe9\\xd0\\xea[\\xea\\xe5\\xebp\\xeb\\xfb\\xec\\x86\\xed\\x11\\xed\\x9c\\xee(\\xee\\xb4\\xef@\\xef\\xcc\\xf0X\\xf0\\xe5\\xf1r\\xf1\\xff\\xf2\\x8c\\xf3\\x19\\xf3\\xa7\\xf44\\xf4\\xc2\\xf5P\\xf5\\xde\\xf6m\\xf6\\xfb\\xf7\\x8a\\xf8\\x19\\xf8\\xa8\\xf98\\xf9\\xc7\\xfaW\\xfa\\xe7\\xfbw\\xfc\\x07\\xfc\\x98\\xfd)\\xfd\\xba\\xfeK\\xfe\\xdc\\xffm\\xff\\xff\\xff\\xed\\x00\\xa8Photoshop 3.0\\x008BIM\\x04\\x04\\x00\\x00\\x00\\x00\\x00\\x8b\\x1c\\x01Z\\x00\\x03\\x1b%G\\x1c\\x02P\\x00\\nJamie Gray\\x1c\\x02t\\x00.Copyright Jamie Gray 2022  all rights reserved\\x1c\\x027\\x00\\x0820220923\\x1c\\x02>\\x00\\x0820220923\\x1c\\x02?\\x00\\x0b125000+0000\\x1c\\x02\\x00\\x00\\x02\\x00\\x04\\x1c\\x02<\\x00\\x0b084048+0000\\x00\\xff\\xdb\\x00C\\x00\\x02\\x01\\x01\\x02\\x01\\x01\\x02\\x02\\x02\\x02\\x02\\x02\\x02\\x02\\x03\\x05\\x03\\x03\\x03\\x03\\x03\\x06\\x04\\x04\\x03\\x05\\x07\\x06\\x07\\x07\\x07\\x06\\x07\\x07\\x08\\t\\x0b\\t\\x08\\x08\\n\\x08\\x07\\x07\\n\\r\\n\\n\\x0b\\x0c\\x0c\\x0c\\x0c\\x07\\t\\x0e\\x0f\\r\\x0c\\x0e\\x0b\\x0c\\x0c\\x0c\\xff\\xdb\\x00C\\x01\\x02\\x02\\x02\\x03\\x03\\x03\\x06\\x03\\x03\\x06\\x0c\\x08\\x07\\x08\\x0c\\x0c\\x0c\\x0c\\x0c\\x0c\\x0c\\x0c\\x0c\\x0c\\x0c\\x0c\\x0c\\x0c\\x0c\\x0c\\x0c\\x0c\\x0c\\x0c\\x0c\\x0c\\x0c\\x0c\\x0c\\x0c\\x0c\\x0c\\x0c\\x0c\\x0c\\x0c\\x0c\\x0c\\x0c\\x0c\\x0c\\x0c\\x0c\\x0c\\x0c\\x0c\\x0c\\x0c\\x0c\\x0c\\x0c\\x0c\\x0c\\x0c\\xff\\xc2\\x00\\x11\\x08\\x00m\\x00d\\x03\\x01\\x11\\x00\\x02\\x11\\x01\\x03\\x11\\x01\\xff\\xc4\\x00\\x1d\\x00\\x00\\x01\\x05\\x00\\x03\\x01\\x00\\x00\\x00\\x00\\x00\\x00\\x00\\x00\\x00\\x00\\x07\\x03\\x04\\x05\\x06\\x08\\x00\\x01\\x02\\t\\xff\\xc4\\x00\\x1a\\x01\\x00\\x02\\x03\\x01\\x01\\x00\\x00\\x00\\x00\\x00\\x00\\x00\\x00\\x00\\x00\\x00\\x01\\x02\\x00\\x03\\x04\\x05\\x06\\xff\\xda\\x00\\x0c\\x03\\x01\\x00\\x02\\x10\\x03\\x10\\x00\\x00\\x01#\\xf8\\xac\\xde1K>BD\\xf6\\x16\\x91{\\x8f]\\x13/!\\xbe\\xe4\\xb5\\xab\\xaa\\x10\\xb5\"\\xb5\\xa1C\\x94_\\xa8\\xf8\\x98\\x1c\\xf3\\xd5\\x0ey\\x9c\\xec\\xb1\\x97\\xd6[\\xe0\\xcc\\xca\\x95\\xde\\xe8e\\x1c&K6\\x15\\x823\\xbe\\x05\\xd8\\xc5Q\\xf3\\xedE\\xd6\\xd5N\\x890\\xea>L\\xa1Y\\t\\xcaSa\\xe0\\x96\\x04@2\\x8b\\xeam\\x10\\xd4@\\xe1\"\\xfd\\x16Q\\xdd\\xad\\xd5\\xb6f{\\x93#U\\x9a\\xcbl\\x8c\\x14\\xb3Q\\x19z\\x0f\\xd4\\xe9\\xfaY\\x92H\\xa4(\\xb9\\xc5Y{\\xa4\\x9c\\xddjS\\xd2\\x16\\xdd\\xc1\\xfaa\\xa3\\x0b\\xe5\\x9d\\xacJ\\xc9\\x0f\\\\#i\\x1c\\'\\xd0\\x89\\t\\x92x^\\xbe\\xe8\\xda)\\x08\\x05\\x1a9;\\x17\\xab\\xc1\"\\xb5|\\x92\\x0c5}\\r8*\\x86pN\\xa4\\xa0r\\xbds\\xcc\\xfd\\x18\\xfbs\\xd7Qg6\\xf2\\xc8{\\xbc\\xf3C ,U\\x19}f\\xb5\\xcc=H\\xa4\\x91\\xdc\\xbfc\\x08\\xf6\\xf5K\\xc1\\xa5\\x04>\\xa7\\x95|\\xf9\\xe3\\t\\x84\\xb1$\\xed[\\xed\\xb5\\xf9\\x13\\x82,L6>\\xa5\\x1f\\x9f\\xe9\\xa3\\xa9Z\\xda\\xd5\\x15\\xdf\\xf2\\xa3\\x15Fp\\xf0\\x89\\x127f\\x9c\\xde\\xe4\\xf7\\n\\xf1\\x9cF\\x13`\\xee\\t\\xf9=K?g\\x8a\\x0f\\xdf\\xcd\\xa1\\xd3)\\xe9\\x1a\\xc9\\xc9>\\x98]\\x91I\\x1c\\xc3\\x1al\\xcer\\xd2p\\xd9r\\xaa\\xc1N\\xdeh\\xb2\\xb6p\\xa6\\xb3Q\\x15\\xa0BO\\xa3\\xb7`\\xe4\\x8aF\\x11\\xb5\\xe3cv\\xac\\xb9Uq\\x96\\xe9\\x8c\\x10\\xbc6\\xa0e\\x16\\x85\\x17\\xd6>\\xad[\\xcfP\\xc5Q\\xb3U\\xba\\xe8\\xce\\xdbN\\xd5\\n\\x08\\x08\\xae:6x\\x8c\\x80\\x15\\n\\x00\\x9e\\xb1\\xf5r\\xdc\\x1d\\x92\\xa0\\x996\\xdd\\x9d<\\xd6\\xd6\\xa6T\\xa9\\xa8HTk$\\x84d%\\x06\\x905\\xac\\x7f\\xff\\xc4\\x00(\\x10\\x00\\x01\\x04\\x02\\x01\\x04\\x01\\x04\\x03\\x01\\x00\\x00\\x00\\x00\\x00\\x00\\x02\\x01\\x03\\x04\\x05\\x00\\x06\\x12\\x07\\x11\\x13\\x14\\x15!\"#1\\x10\\x16\\x17$\\xff\\xda\\x00\\x08\\x01\\x01\\x00\\x01\\x05\\x02y\\x9ec\\x1e\\xbb\\xefa=t\\xd3\\xd9INf\\xc7\\x05\\xc9P\\x9f\\x96\\xf2\\\\\\xb5!\\xd5d\\xc9\\xe5U\\xf3\\xe3\\xbetKp2fe\\x83M\\xc8\\x18\\xbc\\xc5\\x98<RWaMN\\xf4+e\\x81\\xa3\\xa2\\xfb\\xa2\\xc3vF\\x12\\xb6x\\xec\\xa7\\x89YN\\xea\\xcac\\xcd\\xa2%\\xb0~\\x1b\\x8aOf\\xc1\\xc8\\xa8\\xca\\xfd;l\\x13R0U[$\\xa9u\\xb3\\r\\xb6\\xac\\xa7\\x1b\\x8d\\xc2A+F\\xd1<E\\xfb_\\xd3\\xe9\\x93G\\xed\\xb0\\x8c\\x0b*i\\xf2W\\x1d\\xf1\\xa6\\xe0\\xe7\\x95\\x8d]\\xbf\\x1c\\xdd\\xbb\\xaaQ4\\xc8v\\x9dY\\xd8n\\x1f\\xa7\\xea\\xbd\\xbd\\\\\\xdd\\x07\\xab\\xd0\\xf6\\xe27\\x13\\xb1NAWg\\xa1d\\xa7y\\x0c\\xb8\\x8aO\\xad\\x02\\x92=\\xab\\xf3\\xc7t0\\x7f?\\xceZlah\\x07\\xb2\\xdd5\\xd3\\x98,\\xa6\\xc5\\xd3\\x08\\x92\\x14\\xe9\\x1f\\xd7\\xad\\xf5\\xda\\x90\\xbb\\xd7\\xcbK\\x03P\\xd2[\\x12\\xb0\\xd5A\\xb6\\x1a\\xd4\\xdb \\xf9\\xc6\\xf3\\xe6\\xdb\\xcf\\x9ao\\x1d\\xb8l\\x9b\\xac\\x9e\\x15\\xa2\\xec\\xa6}YS\\\\x6X\\xde%\\xe9M\\xe8\\x87O\\x7f\\xb0\\x0e.\\xc0\\x19k\\xb3\\x0f\\x8a>\\xd6\\x08\\xdf\\xcc\\xae%\\xb1g\\xcb\\x16|\\xb1.XU\\xbd;\\t\\x84n\\x08kl;+d\\x88\\xdb\\x8d\\xe8\\x92\\xccC\\xde,z\\xc5Q\\x1d\\xb0S>\\xfd\\xf3\\xb6!v\\xce_T\\\\7\\xfdw\\x1e7\\x9f\\n\\xebA5\\xb2s\\x92\\xd6F\\x08\\xd0\\x8b\\xb6>\\x9d\\xf1Z\\xec\\xe0/\\xdb\\xf1I\\x8bT\\x98\\x95\\t\\x89Q\\x97\\x94+\\xeb1\\x1c\\xd9a\\xd5\\n\\xb6\\x88\\xd6[\\xdb\\x96\\xf3?Su\\xde\\xb8[&\\x7f\\xb8\\xdb\\xe2u\\xc2\\xcf\\xbb}t\\x9f\\xc7\\xdb\\xc4\\x95\\x89+\\x02N{\\x809\\xb6\\xb5\\xeb=,\\x8c\\xddm\\x94\\xd7*\\xe7w\\x9e\\xfd\\x8e\\xb5\\xc4L\\x01\\x14\\x84q\\x04s\\xdfL\\x19\\xc9\\x814sd\\xd9\\x82\\x82\\xa3\\xfb\\\\\\xe5\\xb2\\xb8\\xb2+ZjX,\\t\\xf5\\x16\\xd9&\\xd8\\xf0Up\\xb2\\xe3]n\\xc5%\\xc78Or\\xcf\\x89<\\xf8\\x871*]\\xce\\xa48mN\\x01\\xe5\\x9a\\xa5?\\xa5\\xa9\\xdc\\xa0\\xeb\\xb4R_\\xeeL\\x81\\x11\\xa0\\xf7W\\x89Tvh\\xc9*\\x17,D\\xfe\\x07:\\xa6\\xf7\\x9fg\\xafc\\xd9\\x99\\x08\\x11\\x86\\xba\\xabo\\xcb\\x0c\\xfc\\xb29&#\\xbc\\x85\\xe4\\xfcwN\\x7f\\xc6\\xab\\x89\\xfc\\'\\xebr\\x93\\xedl\\xba\\x8b\\x1e\\xc6\\xca_A\\xdb\\xa6\\x14\\xbb\\xda\\xa5\\xe7\\n\\xc5\\xd5n \\xa7\\x06\\xa4\\x97\\xe3\\xd8\\x1dQ\\xaf/\\xdf\\xff\\xc4\\x00$\\x11\\x00\\x02\\x01\\x03\\x04\\x02\\x03\\x01\\x01\\x00\\x00\\x00\\x00\\x00\\x00\\x00\\x00\\x01\\x02\\x03\\x10\\x11\\x04\\x12 1!\"\\x05\\x13ABq\\xff\\xda\\x00\\x08\\x01\\x03\\x01\\x01?\\x01\\xb2#t\\xcf\\x07\\x81m<\\x1e\\xa2\\xa5N\\xccHN\\xff\\x00\\xbcry<\\xe4\\xc0\\x91\\x8b\\xe3\\x9b2Ddi\\xb6}C\\xa48\\xe2\\xc8w\\xfa\\xd1\\xb1\\x1bM\\xa6\\x8fC\\xf6-\\xcc\\x8e\\x8e\\x91WA\\x0f\\xc2\\xbd\\x1d\\xaf\\x03\\xb3\\xc1\\xb4\\xdb\\xc7KQ*I\\nR\\xef\\x03\\xab\\x93YO\\xfa&\\xb0\\xef\\x94)\\xab\\xe0\\xc1J\\x83\\x958\\xe1\\x91\\x8f\\xae\\x05\\xa4\\xf6\\xdcT\\xa4\\x9a\\xc3>f0P\\x8a\\xfd6\\x98\\x1f/\\x8c\\xac\\xa5C\\xfc\\x1c\\x9e{!_\\xf0\\xa93S^ug\\xedl\\r\\x1bM\\xc6\\xe3x\\xa4|n\\xafd\\xb6>\\x99\\x88v9EtI\\xa5\\x99\\xbe\\x917\\x99d\\xc9\\x91\\xf0VF\\x83U)zHPK\\xdaF\\xbb\\\\\\xea=\\x90\\xeb\\x96L\\x89\\x91\\xf2`\\xd0K\\x135\\xba\\xd9O\\xd6=\\n\\xf8\\xbeL\\x89\\x94\\xba\\xbf~,\\x84\\x8c\\xf2\\xa7\\xd5\\xd5\\xa3w\\xc6=\\x12\\xe0\\xb8\\xff\\x00\\xff\\xc4\\x00$\\x11\\x00\\x02\\x02\\x01\\x04\\x02\\x02\\x03\\x01\\x00\\x00\\x00\\x00\\x00\\x00\\x00\\x00\\x01\\x02\\x11\\x03\\x04\\x10\\x121\\x13! Q\\x05\\x14A\"\\xff\\xda\\x00\\x08\\x01\\x02\\x01\\x01?\\x01\\x84\\xe5?f\\xaa\\x042J\\x1d\\x1f\\x86\\x93\\xc9\\x0eofJ\\xe8\\xf6{(\\x8abm\\x0f \\xf1,(\\x93\\x8c\\x8c\\xb0\\xfe\\xa3\\xf0\\xba\\xae\\x0f\\xc7!m\"\\xb7C%\\x8d\\xb6j4\\xd6\\x89\\xe9\\xda\\x97\\xa3O\\xa4\\xe5\\xd9\\x8bI\\x08\\xf4[\\x14\\x98\\xfa\\x16\\xcbv\\x8c\\x8b\\xd1\\xe0VB\\x15\\xd6\\xfd\\x16\"\\xc9J\\x88\\xe4\\xf6rG$x\\xe4<2\\xfb?_\\'\\xd9\\xfa\\xf3\\xfb2j8\\x7f\\x91\\xe7\\x99\\x1dL\\x8cy-\\x11\\x8d\\xab%\\x8a\\xc8\\xe0\\xa1\\xc4\\xa6Y\\xc8\\xb2\\xcc\\x98\\xdc\\xa6\\xd9\\xc1}\\x8f\\x11\\x86K\\xa2\\rQ\\xc8\\xb3\\xb1\\xd9\\xc8\\xe4Y\\xc8SJN\\xc7\\xdd\\xa2Yn4E\\xd1\\xa5\\x93\\xb6)\\x9c\\x88\\xfch\\xcf\\n\\x98\\xb8\\xd1\\x91\\x7fDc\\x8f\\x15\\xebk!#\\x91\\xe3<g\\x8c\\xf1\\x9a\\xcd=\\xc7\\x94H\\xca\\xcc\\x8f\\xf8cM\\xbe+\\xb1`\\xa4x\\x8f\\x18\\xa1E|\\xb5\\xba_\\x1c|\\x91\\x1f)th\\xf4|\\x179\\xf6q%\\x1f\\x9d\\t\\x1a\\xf5\\xcb\\x15#E\\xa4\\x8e5r\\xec\\x96\\xde\\x87\\x1f\\x92{rTu\\xd6\\xd6\"\\x89\\xec\\xb7\\x89\\x1e\\xca$\\xeb\\xd1\\x7f\\t\\xec\\xb6\\xa1\\x11\\xecD\\xbb(e\\xed=\\xbf\\xff\\xc4\\x00<\\x10\\x00\\x01\\x03\\x01\\x05\\x06\\x02\\x06\\x06\\x0b\\x00\\x00\\x00\\x00\\x00\\x00\\x01\\x00\\x02\\x03\\x11\\x04\\x12!1A\\x10\\x13 \"2Qaq\\x14R\\x91\\xa1\\xc1\\xe1\\x05#$3B\\x814Sbrs\\x82\\x92\\x93\\xa2\\xb1\\xd1\\xff\\xda\\x00\\x08\\x01\\x01\\x00\\x06?\\x02\\xe9\\xda\\xe7\\xfa\\x9b\\x1cb<\\xcd\\x19wE\\xa5\\x97HCf\\xabUW0\\xa7\\x076\\x84m\\xc5\\x16\\xbb\\xa2Or\\xabH \\xa2\\xe7\\x1a\\x00\\xa4,\\xc9\\x0c8\\n\\x91\\xd5\\xa6\\xc2\\x8e*\\x81\\xcb\\x95\\xee\\x1f\\x9a\\xe6{\\x8f\\xe6\\x9c\\x87\\x01NE\\x14\\xe4j\\xb7c\\xeb\\xed\\x84r\\xc64\\xf3E\\xcd\\xb4\\xee\\x1b\\xa3X\\xda\\x05}\\xd2G?q \\xa5W\\xa3\\xbf\\xec\\xd6\\xafP\\x9e\\xaf.\\x02\\x89Z\\xadV \\xa2Z9\\x95\\xa6\\xd3i{\\x84{\\xe7\\x01\\xdd\\xf8\\xff\\x00\\xa5\\xf7\\x00\\x9f\\x14]\\x10\\xdd\\x9frd\\x91\\xc8D\\x90:\\xf0wec\\xb5g\\xe9\\x10\\xb5\\xfe\\xd0\\xb2+\\xa5`\\x16,\\xaf\\x01\\x08E u\\xe6\\x9a\\x1a6\\xb8\\xab\\xe1\\xc4\\xa2}\\x1eF\\x8f\\x1dV\\xfc\\x8a\\xc6\\xfeS\\xdd\\xa5}\\x14\\xd3BY\\r\\xd5\\xa2\\xcd\\xab\\xa8.\\xa5\\x9e\\xcc\\xf6I\\xbb\\xb4\\xc9\\x00{\\xab\\xc9\\x86\\xa8\\x02I\\xa1\\xcdo\\xeb%\\xe2\\x06\"C\\x8a\\xddR\\xf3j\\x14\\xa5\\xb7\\x9b\\x15\\x07\\'c\\xb35\\x9f\\x13\\xc6\\x99\\xa2\\x1bj-m\\xea\\xf22\\xb4O\\x81\\x8f\\xde9\\xb8\\x9f\\x05S\\x8a`\\x18TT\\xec\\xcf\\x8c\\xc8\\xc6\\xde,\\xccw\\x0bu\\x19-\\x8f\\xb5\\xf2\\x00D\\x02\\x05{!w\\x1d\\x07\\x8ae\\x9e\\x03\\x0c\\x828\\x81u\\xe1W\\x05\\x80\\xb2\\xff\\x00G\\xcdee\\xfe\\xdf\\xcdb\\xcb!\\xfeO\\x9a\\xfd\\x1e\\xca}\\xbc\"\\xf1\\x02\\xb9x\\xab\\xf6nK\\xe7\\xa7@\\xab)s\\x9cr\\x1d\\xd3\\xed\\x96\\x91Ii\\xc9\\x1f\\x8fo\\xfa\\xa4\\x9aSWHj\\xe2\\xaf\\xc4\\xca\\xfe\\xca\\xe9\\x0b\\xa5d\\xb3Y\\xac\\xd3\\xe7\\xc1\\xd2\\x1eX\\xc7r\\x8d\\xa8\\xce\\xf7M\\x88\\xadr\\xf2_G[\\xe2q{D\\xacl\\xb8\\xd4\\xd4\\xf2\\x91\\xefNv/\\xb47,:|G\\x8a\\x16v}\\xdd\\x9b\\x03M]\\xaa\\xa3\\xdf\\x81\\xc44k\\xb0\\xb9\\xbc\\x92\\xf7\\xee\\x8cr6\\xeb\\x87\\x0c08\\xe0\\xc6_\\xf6\\xec\\xb2\\xb0\\xc6/9\\xbb\\xc2;\\xd4\\xd5Oi&\\x924Q\\xb4\\xf5\\xb4N{\\x89\\xaeg\\xc5\\x19\\x1f\\xd4\\xef\\xf1\\x1d\\x97\\x92:\\x04\\xe7\\x1e\\xb8\\xc5A\\xe1-\\xfd\\\\m\\x1f\\x15\\x14@c#\\x83Ph\\xc06\\x8d\\n\\xcfe\\x1f\\xc6w\\xc3\\xe2\\xae\\xe9\\x1e\\'\\xcfg.\\xab\\x12\\xa6\\xfd\\xd3\\xc3k~\\\\\\xf4\\xf6`\\xacl\\xad>\\xb5\\xa9\\xf4\\xc0\\x8f\\x9a\\xb5\\xbd\\xdf\\x85\\xe5\\xa3\\xc8`\\xb7\\xa7\\xaanr\\xa8?\\x19\\xa2\\xf3\\xd9\\'\\x8e\\x1b?\\xff\\xc4\\x00%\\x10\\x01\\x00\\x02\\x02\\x01\\x04\\x02\\x03\\x00\\x03\\x00\\x00\\x00\\x00\\x00\\x00\\x01\\x00\\x11!1AQaq\\x81\\x91\\xc1\\xa1\\xb1\\xd1\\xe1\\xf0\\xf1\\xff\\xda\\x00\\x08\\x01\\x01\\x00\\x01?!1\\xd60\\x1a\\xa8%q\\x16\\xe3\\x84f\\xc6\\x92M\\xe1t\\xcc\\x08\\xeah\\x8f\\xc4\\x1d\\x11\\x99\\xa5\\x1a)\\x88)\\x19\\xa9\\x8c\\xd4\\xeeP.\\xda\\x8b]bX;\\x98\\xc27pM\\x0b7\\n\\xe2\\xec\\x06\\x16\\xa7\\x10J\\xda%\\xe2\\xa08\\x8dK\\xf7#\\xaa\\x8d\\xca\\x98q\\x04]@Jhj\\x01\\xf4(\\x95\\x01{\\xa8\\xfd\\x8b\\xb8/\\x04\\x04Q\\x8cPrd\\x8a\\xc0f]\\x8efD\\xca1\\x98\\xea\\xc31\\xad9\\x85\\xf2\\\\E\\xfa\\xf8\\x1c>E\\x8f)\\x89[\\xf2\\x10\\xf8\\x02`i\\xe6\\x86\\xb5\\xcd\\xba6\\x023\\xd1%\\xdes2\\xc8\\x12\\xe2W\\xcc\\xf3*\\xe8\\xa6/\\xac\\xbb\\xca\\xc35\\xd2\\xf3\\xa8\\xf9\\xe8.=\\x1d\\xf4f\\xd0\\xd1\\x0c]\\x0c+\\xb9\\xcb\\xdc\\x19}\\xfc\\xd2\\xc9/\\x01.\\nAu\\x9e\\x1f\\x99wO\\x99\\xd4\\xaf\\x98rr\\x89\\xb9n\\x99f\\x19f\\\\4\\xae\\x9b\\x9d\\xf7\\xbe/\\x81.\\x83\\xc3`t\\x80\\xda\\xfa-~!\\xd5\\xf9\\xc1\\x7fHT\\x11\\xca\\x01\\x98D\\xdeeo\\xf5\\x06n\\x1a\\xd9\\x1aP\\xe4\\xb6\\x8f\\x88\\xa9!W\\xcc@\\xc8\\xc4\\x1c;]B\\x1c\\xa0u\\xa4\\x97\\x10\\x82\\xda+1\\xeaw\\x98\\xd3)O[\\nn\\n\\xf4\\xc7\\x1ac~R\\xae\\xb1\\x1aj\\xd4\\xf7\\x0e\\x19\\xc0k\\xb36E\\xb3\\xf2~s\\x8cMMf\\xeb\\xac%J\\x1eJ\\x8c\\x18c\\x16\\x1e\\xcb\\xb8T\\x9d\\x82t\\x04\\xb1\\xa2\\x1a\\xe8\\x89\\xa8\\r\\x7f\\xe9R\\xfcM\\xa1\\xf5\\x08\\xc2r\\x98V\\xe5(\\xa6\\x8e\\xa8\\xc6y\\x15\\x1d\\xfdS\\xf3>\\xf0a\\xbb)\\xed\\x05\\xbf\\xb4E\\r\\xbb\\xc7\\xf5\\x02K`K\\xe6\\twAv\\x97\\xc9\\xb0\\xac\\xa6\\xfdx\\x84\\x12\\xb4%\\xab\\xa0AZ9N\\x96\\xbb\\x9f\\xc0\\x99\\xfc\\xc6d\\xff\\x00\\x92\\xd0\\xa3k\\xd9\\xe2.*y*tiC\\x84\\xec\\xe7G\\xf9\\x8cu\\x80\\x8d\\xc1\\xe7\\xfa\\xe7\\xd4j\\x16\\x02T^\\x07\\x1e\\xa1r\\x9a\\xc8\\x0b\\x1e>\\x91\\xca\\x03\\xb6\\'\\xf2\\xed9Q\\xeea\\\\\\xbc\\xfd\\xdc\\xc7\\xd3\\x00U\\x0e\\xb1cEkPk\\xed\\xccy\\xc7\\xb5\\xc3y\\xef\\x0c7<\\xf0\\xbb\\x17\\x00\\xe1b\\xdc\\xd5wI\\xf5,\\x07X]LQnL\\x05\\\\\\xca\\xcb\\x19]\\xedb\\xab\\xad{\\x97\\xfc\\xa7LJ\\xbe\\x0f\\xea^f\\xf8J\\xe9\\x7f|\\x0cm\\xdc\\xe0\\xe4\\x97!T(\\x8a\\x08\\x95\\xfd\\x9f\\xb4{\\xe8-wk\\xee\\x0e\\xd5A\\xa6\\x8a9\\xde\"\\x17\\x1a\\xa6\\x8b\\xce4\\x83\\xe9\\xcf{G\\xad\\xfb!\\x93X\\xe60W\\xab\\xc1\\x1e\\xeabQ\\x96\\x83\\xdd\\x89C5\\x97\\x98\\xea\\xd1\\x98,\\xba\\xdd\\xd5\\x0f\\xa4\\xb0\\xa8[W\\xa6\\xfe\\xa3\\xa3\\x80^\\xa6\\xb8z\\x94\\xc1d\\x8d\\x18_\\x821f\\xf9\\'\\x8fE\\x1e\\xa1\\x0e!\\xbeR\\x16\\x00\\xb8\\\\:\\xc5so\\xf6\\x8a?\\xff\\xda\\x00\\x0c\\x03\\x01\\x00\\x02\\x00\\x03\\x00\\x00\\x00\\x104\\r\\x83\\x03L \\xaa\\x06\\xf9\\xbez\\xe9\\xa4\\x90sFMJT\\xad{<~\\xec\\xfa\\xbd\\x02E\\xdb}$t4\\xa0P\\x05U\\xfb0\\x1a}\\xb9\\x08\\x19H\\x81m \\x92\\x97\\xbd_\\xec\\x80\\x05\\xe3[YM^+@U\\x0cAa0\\xcb?\\xff\\xc4\\x00!\\x11\\x01\\x01\\x01\\x00\\x03\\x01\\x00\\x02\\x02\\x03\\x00\\x00\\x00\\x00\\x00\\x00\\x01\\x00\\x11\\x10!1A Qa\\xa1q\\x81\\xf0\\xff\\xda\\x00\\x08\\x01\\x03\\x01\\x01?\\x105\\xee\\xc6\\xd6\\xfe\\x12\\xdc\\x96\\xff\\x00\\x9d\\x87\\xc9h\\'\\xc9\\x86\\xb6gW\\xab\\x0b>]\\x8a\\xc6\\x96\\xb3\\xb6\\xa5\\xd7R\\x8c0\\x1e\\xe0Y%\\xad\\xac\\x0fd\\x82\\xc2z\\x8fx]\\xb0\\xce\\xae\\xbe\\xcf\\xa9\\xafz\\x81\\x9eB\\xf9/N^c\\x8c\\xbc\\xbf\\x9a\\x0f\\xee\\xc6\\x9d\\xd9\\xbe0\\xbaI\\x87\\xc5\\xa8 \\nB}\\xb42\\x05\\x9e\\x00\\xb0\\xbe\\xe9v{\\xcbO\\xca]u\\x92\\x9d|gU\\xeaK\\t#d\\x9d\\xd8\\xd8\\xf0\\xe9\\xd4t\\x87Df\\x8c\\x03\\x1fl\\x81\\xb1\\xc8\\x98\\xbay\\x0c8\\xd2\\xd2\\xd21\\x87\\xeb\\xd8\\x98\\xba\\x1f\\xee\\xdd\\xd7s\\xeb\\x96\\xe3\\xe7\\xe4\\x1b\\xc3n\\x19\\xfc$]~\\x1b\\xfalA\\x1d\\xb7\\x88\\xcbu\\xe0[\\x87\\xec(O,lmo\\x1d\\x0e\\xae\\xec\\xf3\\xc9\\x05:\\x99u\\x1f\\xef\\xf2\\xc5\\x886\\xec\\xb1\\x90\\xf6?\\xf6L\\xfc?\\xdc\\x9c\\xee\\x1d\\xe1\\\\\\xee\\xdc\\x9b\\r\\xd3\\xc0+\\xa7\\xb2\\xc0d\\x1d\\xea\\xc4\\xd9Rq\\x90G\\xb0\\xc2K\\x87r\\xf5\\xc1\\x18\\xdb<\\x93x/+\\xc5\\xefPd\\x12\\xc9w\\x87\\xce?\\xff\\xc4\\x00\\x1f\\x11\\x00\\x03\\x01\\x01\\x01\\x00\\x03\\x01\\x01\\x01\\x00\\x00\\x00\\x00\\x00\\x00\\x00\\x01\\x11!1\\x10 AaQq\\xd1\\xff\\xda\\x00\\x08\\x01\\x02\\x01\\x01?\\x10K\\\\\\x11\\xad!\\xa0t\\x14\\\\\\xc1zx\\xd6\\x16T$\\x1fI\\x92\\x85B\\xd3\\x80\\xf6\\xa3\\x19\\xa5Q\\xbfc\\xe4\\x12}\\x89!$\"L\\xe4\\xb8L\\xb4\\xd8\\xd2Qrh\\xa6\\x89\\x18\\x99GFck~\\tF\\xd2\\xd06P\\xb5\\x81\\'\\x0e\\xb2\\xfd\\x86\\x8fP\\xd8@\\x90\\x87\\xd0\\xe1\\xdf\\x07\\x08\\xd8\\xf2\\x88*c\\x89=\\x0co\\xe8e\\xda.\\xe3\\x13f$\\t\\x14\\xdaMyH\\xa3\\x088ej\\xbaW\\x10B\\xdbK\\xac[\\xcaJ\\xf0\"11E\\x94\\xba6\\xd6\\xd66\\x95\\x87\\x1f\\x075\\x16\\x87=\\x1cy?\\t\\xf8O\\xc2\\x9f\\xd0\\xe7~\\x88\\xba\\x10\\x94\\x1aB\\xe3\\xe5`g\\x88\\x1a\\x89.\\x901]\\x90\\xa5\\x8diM!)u\\x8c\\'\\xd1\\xa1\\'\\xd0/\\xe2\\x95pO\\xf7^\\x94$\\xba.F\\xb9\\xf8<\\xd65;\\xf2J\\xb8\\x7f\\xb2\\x0e\\xd2\\x0e\\xcd\\x90\\x17\\xfc\\xa2\\x1e!\\xa7\\xfd\\x1adk\\x83Mw\\xe0\\x9c\\x18\\xfaR\\x1b\\x1c\\xd0l\\xa3D\\x0b}1\\xd1\\x1c\\x11\\xe0J\\xf1\\x9c\\x03\\xf5\\xed\\xf9\\x0eG\\x96iQ\\xfa\\x15i\\x85\\xe1\\xeb\\xf5\\xff\\xc4\\x00#\\x10\\x01\\x00\\x02\\x02\\x02\\x03\\x01\\x00\\x03\\x01\\x01\\x00\\x00\\x00\\x00\\x00\\x01\\x00\\x11!1AQaq\\x81\\x91\\xa1\\xb1\\xe1\\xc1\\xd1\\xff\\xda\\x00\\x08\\x01\\x01\\x00\\x01?\\x10(\\x17D#Z\\xae1\\x14\\xc9\\x92\\xaeh\\x85\\x81v\\xcd\\xa2[\\xb9f\\x88\\x7fr\\xbbY\\\\\\xbb\\x87v\\xbe\\x11\\x85D\\xeb\\xdb\\xea\\x05\\x0c\\xea\\xaa\\x8b\\x05\\xb3\\xa3\\xa9Ij(\\xa6= \\x0f\\x88\\xa1cB\\xc5&>\\x8d<J\\x9b\\xb3~\\xdc>\\xa1\\xcfL\\x18=\\xc4\\xa5\\x85*\\xbf\\x11\\x06\\x01\\xad-\\xb3\\x19\\x1e\\x91\\xab4\\xc8\\x7f\\x04\\xac\\x0e\\x19\\x9dl\\xfd\\xc3\\x16U\\x14\\xb4J\\xff\\x00\\x01\\xdc\\x1c\\x00\\n\\xd4\\xbe\\xa1m]J\\xe5\\x98a\\x942\\xa1\\x83#&\\xc3N?\\xb9Y\\x1d^\\xe1\\x89P\\x04\\xe2\\x14S\\x11\\xad\\xed\\x8d\\x02Q\\x9b\\x94\\x08+\\xcb\\t\\x01[Am\\xe2j\\xf5,(\\x93\\x05\\xc0\\x85\\x08\\xdcv\\x01[U\\x8c\\x0bK\\xacm\\xe2a\\x08-\\xbe\\x1bA}\\xff\\x00\\xe4[\\xeb\\xb0\\xe1\\xd0%-\\x99\\x87\\xf1\\x07\\x1a\\xd8v\\xeb\\x1b\\xcc\\xa1Hoq\\xd0\\x93\\xecTf\\xf7\\x02\\x85\\xa3Hf\\xa1q\\x18\\x18\\x9d\\xea\\t5\\xbd\\x04]\\x9e\\xe8D\\xa6\\xcdt\\x02\\x98\\xba\\x83\\xc34\\xb6t\\x1eP\\x86.\\x8e#\\xf0\\n\\xadt\\x07\\x1b\\x96\\nwE2\\xe1\\x97\\xce\\xff\\x00\\x9c\\x07c|~F\\x02B\\x1eI\\xd77/\\x86\\xfa\\x85\\x92\\xc7\\x98\\xcdSVK\\xe0\\xea\\xb1\\xb89c\\x9f\\x8c\\x19\\x8c{\\xac\\x13\\x97\\xd4\\x8d\\x80k\\\\YR\\x8d\\xb3\\x91\\n\\x96t\\xb9\\xf3pBE\\xc0\\xcf\\x1df\\xa5*\\x85\\xc6\\x03\\xbeB\\x08\\xf8\\xda\\xb2\\x86\\x14x\\xfe\\xa2w\\x84\\x8d\\xa1\\xb4^\\x04\\xeb\\xb7\\x03\\xe4 \\x04C@\\xca\\x12\\xd6\\xc2\\xd3\\x15A\\x94\\x0e\\xc7\\xfb\\x1c\\xfa\\xf5h\\x94U{\\x85;\\x82[\\xb5X^iU\\xbes\\x14\\xaa\\xcfM*\\xee\\xa8.\\x04\\xf6\\t\\x0bR\\x80\\x97\\x96\\xb3D4\\\\\\xber\\x15V\\xfa\\x8f\\xcf\"\\xc6\\xd1\\xc5P\\xd7D\\xc5\\xa2b\\x8f\\xecpr\\xf5+m\\xb2\\x1cHY\\xfc\\x115g*d\\xfcDL\\xd6\\xd3\\x8c\\xbf\\x86\\xc8\\xe6T\\x037\\x82\\x84\\xbeT^\\xaa\\x11-_\\x94\\x90\\x00\\x01\\xcdGp\\xc0\\x9e\\x85\\xeay\\xd2?\\xb0\\xc7\\xa3G\\xa9\\x84\\xb0\\xc8\\x1c\\xc4h\\x8b\\x99\\x12}\\x98b\\xa3\\x14|\\x84\\xe7\\xfa&\\x1d\\xf9K\\xda\\x88\\x16_x\\xefoW\\xccD\\xae\\x0b\\x05\\xba\\x0b\\x83:(\\x95z\\xa0\\x02\\xf6q\\xea\\r8\\xa3\\xda\\xe0\\xdb\\xc4\\xcc\\r5\\x84pCN\\xcf\\x81n@Wse=\\x9c[7\\xfa\\xe3\\xcd0\\x84F#\\x0c\\x15\\xc7\\xe1,`? m\\xcc\\xd7\\x98Lz\\x03\\x97\\xd4@\\x14\\x82\\x8a\\r\\x8am4\\xb6\\xc5j\\x88@*\\xf9\\xa6\\x81]\\xabX%X\\x82A\\xa8N\\x95\\xe1\\xc8\\x1bV\\x94\\x1fh\\x96j\\x97B\\x80\\xe0\\x02>idl\\xe1s\\xe9\\xcfW\\x10%(\\x94D\\xe3\\xdc[`\\xd3\\xc4\\x0e\\x14t,?\\xd1\\x8fs!\\x01\\xcb\\xe6*\\n\\rb\\xd5]p\\x05x\\x8aT\\x8f`\\xdb\\x02\\x04\\xc5\\x14\\xd6o\"\\xda\\xc0\\tXJ\\xb5\\xd4<\\xd8r]\\x8e|\\x82\\xd8\\xe4\\xc8T\\x12\\xaf\\xac6\\xe0xh\\x0b\\x07F2\\xa7\\xfe7\\x11\\x9fH\\xdcb\\xd9\\xb5\\xac]Q\\x9f2\\xe4\\t\\xc0\\xda\\xfb\\x87n\\x9b\\x1dgF\\xb2y\\xdf\\xbdE\\xc9\\xb4\\x86\\x07\\x01\\xe4{\\x96\\x0b\\xa7\\xcb\\x82\\x18W\\xd8\\x0c\\x81\\x86\\xbf\\x0b/\\x7f\\x16;\\xba{\\xaa\\x9e\\xd8\\xccs\\n\\xbf\\xd8\\xc5 \\xd5\\x8e\\x16\\xc0\\xe01\\xc5\\x19\\xc5\\xc6\\x8c\\x1a%\\xcd,\\xa2\\xafS\\x80j_\\xb9\\x13T\\xb7\\xedK\\xe5W\\xb6^\\xc0`\\xbd\\x81\\x90\\xe3\\xca6\\xbd\\x05\\x12\\x91CN=\\xc2a\\x0e\\x84\\x1c\\x1e\\xa6*\\x04V\\x0c\\xab\\xbaA\\xc7t\\xcd\\x0e\\xa5F9\\x844BV\\xc2u\\xda\\x1e\\xd1%\\x1c\\x15\\x06T\\x8d}\\x81\\x0e^\\xd1\\xb0n\\x98=\\xcb\\xae/\\xb5\\x8d+\\x83\\x95\\xd7\\x92i*\\x80\\xdd?\\xd5\\x05\\x1eXC\\x1a\\x1c\\xe5F\\xa3x)\\xa7\\x05\\x05_\\xb30/\\xae\\xc5\\x94n`\\x0c^^Z\\xc2\\x83\\xa3\\xee-DW\\xe5R\\x99\\xe6h\\x00\\xcd\\x1b\\xca\\x19\\xc5\\x81\\xe85\\xe7\\x0f\\xb1X\\xd1(Yi\\xb5\\xe9\\x0c%\\xc6\\x08\\xd0\\xac8\\xc3\\xf6\\xe2\\xe2>\\xda\\xd5)\\xe8\\x01\\xe0K\\x0c2V@\\x8a|a\\x06\\xd8\\xaa\\x15\\xcf\\xf9(1\\xab/\\x9cJ1\\xa4\\xde\\x84\\x0f\\xf0\\xca>\\'\\xff\\xd9'}"
            ]
          },
          "metadata": {},
          "execution_count": 18
        }
      ],
      "source": [
        "from google.colab import files\n",
        "files.upload()"
      ]
    },
    {
      "cell_type": "markdown",
      "source": [
        "Next we will upload the file to our instance, and convert it to a numerical array:"
      ],
      "metadata": {
        "id": "uFuDG1UEdVjb"
      }
    },
    {
      "cell_type": "code",
      "execution_count": 19,
      "metadata": {
        "colab": {
          "base_uri": "https://localhost:8080/"
        },
        "id": "2JZ6OZnUSTVc",
        "outputId": "a7ac683b-cf48-4a74-bf49-ce252780b636"
      },
      "outputs": [
        {
          "output_type": "stream",
          "name": "stderr",
          "text": [
            "<ipython-input-19-9c9d03788305>:4: DeprecationWarning: Starting with ImageIO v3 the behavior of this function will switch to that of iio.v3.imread. To keep the current behavior (and make this warning disappear) use `import imageio.v2 as imageio` or call `imageio.v2.imread` directly.\n",
            "  image_im = imageio.imread('vinh.jpg')\n"
          ]
        }
      ],
      "source": [
        "import imageio\n",
        "import numpy as np\n",
        "\n",
        "image_im = imageio.imread('vinh.jpg')\n",
        "\n",
        "# because images are a collection of pixels that have a value between\n",
        "# 0 (for white) and 255 (full colour), we divided by 255 to return as\n",
        "# a decimal value (e.g. 0 is white and 1 is full colour)\n",
        "target_im = np.asarray(image_im/255, dtype=np.float32)"
      ]
    },
    {
      "cell_type": "markdown",
      "source": [
        "Ignore the \"DepreciationWarning\". Let's print to screen to see what our target is:"
      ],
      "metadata": {
        "id": "RPOxcpqUdhuv"
      }
    },
    {
      "cell_type": "code",
      "source": [
        "import matplotlib.pyplot as plt\n",
        "\n",
        "plt.imshow(image_im)"
      ],
      "metadata": {
        "colab": {
          "base_uri": "https://localhost:8080/",
          "height": 452
        },
        "id": "dEgraPv1iXIH",
        "outputId": "cb172143-ec17-4b21-cc8b-e674d33725fb"
      },
      "execution_count": 20,
      "outputs": [
        {
          "output_type": "execute_result",
          "data": {
            "text/plain": [
              "<matplotlib.image.AxesImage at 0x7da01c3d6290>"
            ]
          },
          "metadata": {},
          "execution_count": 20
        },
        {
          "output_type": "display_data",
          "data": {
            "text/plain": [
              "<Figure size 640x480 with 1 Axes>"
            ],
            "image/png": "[encoded data removed]"
          },
          "metadata": {}
        }
      ]
    },
    {
      "cell_type": "markdown",
      "source": [
        "Now we will specify a couple of functions to convert the image to a vector (i.e. from a 3d image to a 1d array of numbers) and back again. Do not worry about the code here, its quite domain specific and not super-transferable to other analytics workloads."
      ],
      "metadata": {
        "id": "jdOL3wiPiXax"
      }
    },
    {
      "cell_type": "code",
      "execution_count": 21,
      "metadata": {
        "id": "aSp4SBILSoBf"
      },
      "outputs": [],
      "source": [
        "import functools\n",
        "import operator\n",
        "\n",
        "def img2chromosome(img_arr):\n",
        "    \"\"\"\n",
        "    Represents the image as a 1D vector.\n",
        "\n",
        "    img_arr: The image to be converted into a vector.\n",
        "\n",
        "    Returns the vector.\n",
        "    \"\"\"\n",
        "\n",
        "    return np.reshape(a=img_arr, newshape=(functools.reduce(operator.mul, img_arr.shape)))\n",
        "\n",
        "def chromosome2img(vector, shape):\n",
        "    \"\"\"\n",
        "    Converts a 1D vector into an array.\n",
        "\n",
        "    vector: The vector to be converted into an array.\n",
        "    shape: The shape of the target array.\n",
        "\n",
        "    Returns the array.\n",
        "    \"\"\"\n",
        "\n",
        "    # Check if the vector can be reshaped according to the specified shape.\n",
        "    if len(vector) != functools.reduce(operator.mul, shape):\n",
        "        raise ValueError(f\"A vector of length {len(vector)} into an array of shape {shape}.\")\n",
        "\n",
        "    return np.reshape(a=vector, newshape=shape)"
      ]
    },
    {
      "cell_type": "markdown",
      "source": [
        "Next we need to specify our _fitness\\_function_ for our GA model - i.e. the measure of success for our algorithm as we evaluate our progress:"
      ],
      "metadata": {
        "id": "kfFbdAFpd7PN"
      }
    },
    {
      "cell_type": "code",
      "execution_count": 22,
      "metadata": {
        "id": "IhZrCUIvSfO-"
      },
      "outputs": [],
      "source": [
        "# convert the image of Vinh to a vector using the above function\n",
        "target_chromosome = img2chromosome(target_im)\n",
        "\n",
        "# the fitness function\n",
        "# take an proposed solution (model output) and the actual solution\n",
        "# take the absolute value from subtracting one from the other\n",
        "def fitness_fun(ga_instance, solution, solution_idx):\n",
        "    # absolute as we don't want negative numbers\n",
        "    fitness = np.sum(np.abs(target_chromosome - solution))\n",
        "\n",
        "    # Negating the fitness value to make it increasing rather than decreasing\n",
        "    # PyGAD expects that we increase fitness over time rather than decreasing\n",
        "    fitness = np.sum(target_chromosome) - fitness\n",
        "    return fitness"
      ]
    },
    {
      "cell_type": "markdown",
      "source": [
        "Next we need to specify our GA and its hyperparameters:"
      ],
      "metadata": {
        "id": "LBpeV6wggD1p"
      }
    },
    {
      "cell_type": "code",
      "execution_count": 23,
      "metadata": {
        "colab": {
          "base_uri": "https://localhost:8080/",
          "height": 109
        },
        "id": "BvxsQ9uySuaq",
        "outputId": "5a508fb3-5f45-4922-e099-50689b454782"
      },
      "outputs": [
        {
          "output_type": "error",
          "ename": "SyntaxError",
          "evalue": "invalid syntax (<ipython-input-23-58acffaf4b3d>, line 4)",
          "traceback": [
            "\u001b[0;36m  File \u001b[0;32m\"<ipython-input-23-58acffaf4b3d>\"\u001b[0;36m, line \u001b[0;32m4\u001b[0m\n\u001b[0;31m    init_range_low = # insert the minimum value to start our chromosones\u001b[0m\n\u001b[0m                     ^\u001b[0m\n\u001b[0;31mSyntaxError\u001b[0m\u001b[0;31m:\u001b[0m invalid syntax\n"
          ]
        }
      ],
      "source": [
        "import pygad\n",
        "\n",
        "# YOU NEED TO SPECIFY THE FOLLOWING!!\n",
        "init_range_low = # insert the minimum value to start our chromosones\n",
        "init_range_high = # insert the maximum value to start our chromosones\n",
        "mutation_by_replacement = # True or False. Should we replace the values or add to them?\n",
        "random_mutation_min_val= # insert the minimum value AFTER mutation\n",
        "random_mutation_max_val= # insert the maximum value AFTER mutation\n",
        "\n",
        "# specify the GA approach.\n",
        "ga_instance = pygad.GA(fitness_func=fitness_fun,\n",
        "                       num_generations=7000,\n",
        "                       sol_per_pop=20,\n",
        "                       num_parents_mating=10,\n",
        "                       num_genes=target_im.size,\n",
        "                       init_range_low=init_range_low, # needs to be specified\n",
        "                       init_range_high=init_range_high, # needs to be specified\n",
        "                       mutation_percent_genes=0.01,\n",
        "                       mutation_type=\"random\",\n",
        "                       mutation_by_replacement=mutation_by_replacement, # needs to be specified\n",
        "                       random_mutation_min_val=random_mutation_min_val, # needs to be specified\n",
        "                       random_mutation_max_val=random_mutation_max_val) # needs to be specified"
      ]
    },
    {
      "cell_type": "markdown",
      "source": [
        "Now we can run the model - may take ~10 minutes"
      ],
      "metadata": {
        "id": "mPl5PRyDgJQx"
      }
    },
    {
      "cell_type": "code",
      "execution_count": null,
      "metadata": {
        "id": "6u13hEyNUN5z"
      },
      "outputs": [],
      "source": [
        "ga_instance.run()"
      ]
    },
    {
      "cell_type": "markdown",
      "source": [
        "Now our model has converged - let's display the results:"
      ],
      "metadata": {
        "id": "hif5Z_N4gOMZ"
      }
    },
    {
      "cell_type": "code",
      "source": [
        "ga_instance.plot_fitness()"
      ],
      "metadata": {
        "id": "IUpF-3IRgTEV"
      },
      "execution_count": null,
      "outputs": []
    },
    {
      "cell_type": "markdown",
      "source": [
        "We can see fitness progress in a fairly linear way. By generation 7,000 we have steadily improved. _N.B. we could/should have gone further but time is limited in a Lecture-Workshop_\n",
        "\n",
        "Now let's look at some further results and our final generated image:"
      ],
      "metadata": {
        "id": "vghj_-pMg-C3"
      }
    },
    {
      "cell_type": "code",
      "execution_count": null,
      "metadata": {
        "id": "EQme1knGltfu"
      },
      "outputs": [],
      "source": [
        "# Returning the details of the best solution.\n",
        "solution, solution_fitness, solution_idx = ga_instance.best_solution()\n",
        "print(f\"Fitness value of the best solution = {solution_fitness}\")\n",
        "print(f\"Index of the best solution : {solution_idx}\")\n",
        "\n",
        "# print the generation that produced the best solution\n",
        "if ga_instance.best_solution_generation != -1:\n",
        "    print(f\"Best fitness value reached after {ga_instance.best_solution_generation} generations.\")\n",
        "\n",
        "# convert solution to an image using the earlier function\n",
        "result = chromosome2img(solution, target_im.shape)\n",
        "\n",
        "# plot the solution photo to screen\n",
        "plt.imshow(result)\n",
        "plt.title(\"A Lovely Photo of Vinh\")\n",
        "plt.show()"
      ]
    },
    {
      "cell_type": "markdown",
      "source": [
        "Getting there - but not quite yet. If you want to try some more generations in your own time, e.g. 1,500+, then you may get something even better! 😺"
      ],
      "metadata": {
        "id": "lcCua2GwhUaA"
      }
    }
  ],
  "metadata": {
    "accelerator": "GPU",
    "colab": {
      "gpuType": "T4",
      "provenance": [],
      "authorship_tag": "ABX9TyNB8uM8K3HL0QMkQL7ADSis",
      "include_colab_link": true
    },
    "kernelspec": {
      "display_name": "Python 3",
      "name": "python3"
    },
    "language_info": {
      "name": "python"
    }
  },
  "nbformat": 4,
  "nbformat_minor": 0
}