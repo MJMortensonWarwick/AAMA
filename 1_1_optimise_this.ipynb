{
  "nbformat": 4,
  "nbformat_minor": 0,
  "metadata": {
    "colab": {
      "provenance": [],
      "authorship_tag": "ABX9TyNgxdIm68/6qxfk/tKsdlqc",
      "include_colab_link": true
    },
    "kernelspec": {
      "name": "python3",
      "display_name": "Python 3"
    },
    "language_info": {
      "name": "python"
    }
  },
  "cells": [
    {
      "cell_type": "markdown",
      "metadata": {
        "id": "view-in-github",
        "colab_type": "text"
      },
      "source": [
        "<a href=\"https://colab.research.google.com/github/MJMortensonWarwick/AAMA/blob/main/1_1_optimise_this.ipynb\" target=\"_parent\"><img src=\"https://colab.research.google.com/assets/colab-badge.svg\" alt=\"Open In Colab\"/></a>"
      ]
    },
    {
      "cell_type": "markdown",
      "source": [
        "# Optimise this!\n",
        "This current algorithm runs in $\\mathcal{O}(2^n)$ time"
      ],
      "metadata": {
        "id": "rNlE3z9XqZcw"
      }
    },
    {
      "cell_type": "code",
      "execution_count": 3,
      "metadata": {
        "id": "ZZZKtsLrqY4G"
      },
      "outputs": [],
      "source": [
        "# takes a (a list of numbers)\n",
        "def cumulative_counter(a):\n",
        "  counter = 0\n",
        "  running_total = 0\n",
        "  for number in a:\n",
        "    for value in a[:counter+1]:\n",
        "      running_total += value\n",
        "      print(f\"Running total is {running_total}\")\n",
        "    counter += 1\n",
        "  print(f\"Cumulative total is {running_total}\")"
      ]
    },
    {
      "cell_type": "code",
      "source": [
        "cumulative_counter([1,2,3,5])"
      ],
      "metadata": {
        "colab": {
          "base_uri": "https://localhost:8080/"
        },
        "id": "FsUb1DMrrLE7",
        "outputId": "c123d73c-7452-4062-b50d-dc172cd8f8a8"
      },
      "execution_count": 7,
      "outputs": [
        {
          "output_type": "stream",
          "name": "stdout",
          "text": [
            "Cumulative total is 21\n"
          ]
        }
      ]
    },
    {
      "cell_type": "markdown",
      "source": [
        "Can you optimise it to $\\mathcal{O}(n)$ time?"
      ],
      "metadata": {
        "id": "XS7T7GZurso5"
      }
    },
    {
      "cell_type": "code",
      "source": [
        "# Your code goes here"
      ],
      "metadata": {
        "id": "maGGt_dSr05O"
      },
      "execution_count": 5,
      "outputs": []
    },
    {
      "cell_type": "code",
      "source": [
        "# test it works\n",
        "cumulative_counter([1,2,3,5])"
      ],
      "metadata": {
        "colab": {
          "base_uri": "https://localhost:8080/"
        },
        "id": "JXWE7vHmr3g6",
        "outputId": "c46dbedf-3aea-4669-e45b-9485479f1a99"
      },
      "execution_count": 8,
      "outputs": [
        {
          "output_type": "stream",
          "name": "stdout",
          "text": [
            "Cumulative total is 21\n"
          ]
        }
      ]
    }
  ]
}